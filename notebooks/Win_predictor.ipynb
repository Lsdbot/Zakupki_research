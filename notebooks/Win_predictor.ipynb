{
 "cells": [
  {
   "cell_type": "code",
   "execution_count": 1,
   "id": "c39872a6",
   "metadata": {},
   "outputs": [],
   "source": [
    "import pandas as pd\n",
    "import numpy as np\n",
    "\n",
    "from sklearn.model_selection import train_test_split, StratifiedKFold\n",
    "from sklearn.naive_bayes import GaussianNB\n",
    "from sklearn.metrics import roc_auc_score, accuracy_score, precision_score, \\\n",
    "                            recall_score, f1_score, log_loss, precision_recall_curve\n",
    "\n",
    "from catboost import CatBoostClassifier\n",
    "\n",
    "from xgboost import XGBClassifier\n",
    "\n",
    "import optuna\n",
    "\n",
    "import yaml\n",
    "\n",
    "import joblib\n",
    "\n",
    "import warnings\n",
    "warnings.filterwarnings('ignore')"
   ]
  },
  {
   "cell_type": "code",
   "execution_count": 2,
   "id": "9205aabe",
   "metadata": {},
   "outputs": [],
   "source": [
    "def get_metrics(y_test, y_pred, y_score, name = \"Default\"):\n",
    "    \"\"\"Метрики для задачи классификации\"\"\"\n",
    "    df_metrics = pd.DataFrame()\n",
    "\n",
    "    df_metrics['model'] = [name]\n",
    "    df_metrics['Accuracy'] = accuracy_score(y_test, y_pred)\n",
    "    df_metrics['ROC_AUC'] = roc_auc_score(y_test, y_score[:, 1])\n",
    "    df_metrics['Precision'] = precision_score(y_test, y_pred, zero_division=0)\n",
    "    df_metrics['Recall'] = recall_score(y_test, y_pred, zero_division=0)\n",
    "    df_metrics['f1'] = f1_score(y_test, y_pred, zero_division=0)\n",
    "    df_metrics['Logloss'] = log_loss(y_test, y_score)\n",
    "\n",
    "    return df_metrics"
   ]
  },
  {
   "cell_type": "code",
   "execution_count": 65,
   "id": "ad53826d",
   "metadata": {},
   "outputs": [],
   "source": [
    "def get_metrics_in_dict(y_test, y_pred, y_score):\n",
    "    \"\"\"Метрики для задачи классификации\"\"\"\n",
    "    metrics = {}\n",
    "    \n",
    "    metrics['Accuracy'] = float(round(accuracy_score(y_test, y_pred), 3))\n",
    "    metrics['ROC_AUC'] = float(round(roc_auc_score(y_test, y_score[:, 1]), 3))\n",
    "    metrics['Precision'] = float(round(precision_score(y_test, y_pred, \n",
    "                                                       zero_division=0), 3))\n",
    "    metrics['Recall'] = float(round(recall_score(y_test, y_pred, \n",
    "                                                 zero_division=0), 3))\n",
    "    metrics['f1'] = float(round(f1_score(y_test, y_pred, zero_division=0), 3))\n",
    "    metrics['Logloss'] = float(round(log_loss(y_test, y_score), 3))\n",
    "    \n",
    "    return metrics"
   ]
  },
  {
   "cell_type": "code",
   "execution_count": 4,
   "id": "25b008bb",
   "metadata": {},
   "outputs": [],
   "source": [
    "def open_file(file_path):\n",
    "    with open(file_path, 'r') as file:\n",
    "        return yaml.safe_load(file)\n",
    "    \n",
    "def save_file(file_path, data):       \n",
    "    with open(file_path, 'w') as file:\n",
    "        yaml.dump(data, file)"
   ]
  },
  {
   "cell_type": "code",
   "execution_count": 5,
   "id": "b560957e",
   "metadata": {},
   "outputs": [],
   "source": [
    "config_path = \"../config/params.yaml\"\n",
    "config = yaml.load(open(config_path), Loader=yaml.FullLoader)\n",
    "\n",
    "preproc = config[\"preprocessing\"]\n",
    "train = config['train']['win_predictor']"
   ]
  },
  {
   "cell_type": "code",
   "execution_count": 6,
   "id": "90175e9c",
   "metadata": {},
   "outputs": [],
   "source": [
    "ensemble_params = open_file(train['params'])"
   ]
  },
  {
   "cell_type": "code",
   "execution_count": 30,
   "id": "11f294f2",
   "metadata": {
    "scrolled": true
   },
   "outputs": [],
   "source": [
    "win_predictor_metrics = open_file(train['metrics'])"
   ]
  },
  {
   "cell_type": "markdown",
   "id": "20ee195f",
   "metadata": {},
   "source": [
    "# Baseline"
   ]
  },
  {
   "cell_type": "markdown",
   "id": "f64a5468",
   "metadata": {},
   "source": [
    "В данном блоке мы строим и обучаем стекинг моделей, предсказывающих победителя закупок. Параметры для моделей подбираются с помощью байесовского оптимизатора   \n",
    "\n",
    "Результатом этого блока являются файл с моделями, лучшими параметрами и метриками качества."
   ]
  },
  {
   "cell_type": "code",
   "execution_count": 10,
   "id": "51569a49",
   "metadata": {
    "scrolled": true
   },
   "outputs": [
    {
     "data": {
      "text/html": [
       "<div>\n",
       "<style scoped>\n",
       "    .dataframe tbody tr th:only-of-type {\n",
       "        vertical-align: middle;\n",
       "    }\n",
       "\n",
       "    .dataframe tbody tr th {\n",
       "        vertical-align: top;\n",
       "    }\n",
       "\n",
       "    .dataframe thead th {\n",
       "        text-align: right;\n",
       "    }\n",
       "</style>\n",
       "<table border=\"1\" class=\"dataframe\">\n",
       "  <thead>\n",
       "    <tr style=\"text-align: right;\">\n",
       "      <th></th>\n",
       "      <th>purchase</th>\n",
       "      <th>forsmallbiz</th>\n",
       "      <th>price</th>\n",
       "      <th>customer</th>\n",
       "      <th>supplier</th>\n",
       "      <th>is_winner</th>\n",
       "      <th>vectorized</th>\n",
       "      <th>month</th>\n",
       "      <th>reg_code</th>\n",
       "      <th>purchase_size</th>\n",
       "      <th>flag_won</th>\n",
       "      <th>n_unique_okpd2</th>\n",
       "    </tr>\n",
       "    <tr>\n",
       "      <th>index</th>\n",
       "      <th></th>\n",
       "      <th></th>\n",
       "      <th></th>\n",
       "      <th></th>\n",
       "      <th></th>\n",
       "      <th></th>\n",
       "      <th></th>\n",
       "      <th></th>\n",
       "      <th></th>\n",
       "      <th></th>\n",
       "      <th></th>\n",
       "      <th></th>\n",
       "    </tr>\n",
       "  </thead>\n",
       "  <tbody>\n",
       "    <tr>\n",
       "      <th>0</th>\n",
       "      <td>141936</td>\n",
       "      <td>1</td>\n",
       "      <td>406903.35</td>\n",
       "      <td>10960</td>\n",
       "      <td>40062</td>\n",
       "      <td>0</td>\n",
       "      <td>[ 0.12142407 -0.0336704  -0.00717449 -0.101091...</td>\n",
       "      <td>2</td>\n",
       "      <td>62.0_26</td>\n",
       "      <td>1</td>\n",
       "      <td>0.0</td>\n",
       "      <td>3</td>\n",
       "    </tr>\n",
       "    <tr>\n",
       "      <th>1</th>\n",
       "      <td>75199</td>\n",
       "      <td>1</td>\n",
       "      <td>299821.66</td>\n",
       "      <td>7160</td>\n",
       "      <td>40062</td>\n",
       "      <td>0</td>\n",
       "      <td>[ 0.02812369  0.02294252  0.0104262   0.006939...</td>\n",
       "      <td>3</td>\n",
       "      <td>26.2_65</td>\n",
       "      <td>4</td>\n",
       "      <td>0.0</td>\n",
       "      <td>3</td>\n",
       "    </tr>\n",
       "    <tr>\n",
       "      <th>2</th>\n",
       "      <td>97840</td>\n",
       "      <td>1</td>\n",
       "      <td>366250.00</td>\n",
       "      <td>8259</td>\n",
       "      <td>40062</td>\n",
       "      <td>0</td>\n",
       "      <td>[ 0.08153069  0.03020425 -0.01425114 -0.042313...</td>\n",
       "      <td>2</td>\n",
       "      <td>62.0_72</td>\n",
       "      <td>5</td>\n",
       "      <td>0.0</td>\n",
       "      <td>3</td>\n",
       "    </tr>\n",
       "    <tr>\n",
       "      <th>3</th>\n",
       "      <td>64052</td>\n",
       "      <td>1</td>\n",
       "      <td>85013.00</td>\n",
       "      <td>6350</td>\n",
       "      <td>40062</td>\n",
       "      <td>0</td>\n",
       "      <td>[ 7.34494067e-02  3.06627049e-02 -1.24606798e-...</td>\n",
       "      <td>2</td>\n",
       "      <td>58.2_46</td>\n",
       "      <td>6</td>\n",
       "      <td>0.0</td>\n",
       "      <td>3</td>\n",
       "    </tr>\n",
       "    <tr>\n",
       "      <th>4</th>\n",
       "      <td>432364</td>\n",
       "      <td>0</td>\n",
       "      <td>13554.00</td>\n",
       "      <td>9788</td>\n",
       "      <td>5495</td>\n",
       "      <td>1</td>\n",
       "      <td>[ 0.09296399  0.19767287 -0.05634406 -0.004251...</td>\n",
       "      <td>7</td>\n",
       "      <td>drug_77</td>\n",
       "      <td>1</td>\n",
       "      <td>0.0</td>\n",
       "      <td>2</td>\n",
       "    </tr>\n",
       "  </tbody>\n",
       "</table>\n",
       "</div>"
      ],
      "text/plain": [
       "       purchase  forsmallbiz      price  customer  supplier  is_winner  \\\n",
       "index                                                                    \n",
       "0        141936            1  406903.35     10960     40062          0   \n",
       "1         75199            1  299821.66      7160     40062          0   \n",
       "2         97840            1  366250.00      8259     40062          0   \n",
       "3         64052            1   85013.00      6350     40062          0   \n",
       "4        432364            0   13554.00      9788      5495          1   \n",
       "\n",
       "                                              vectorized  month reg_code  \\\n",
       "index                                                                      \n",
       "0      [ 0.12142407 -0.0336704  -0.00717449 -0.101091...      2  62.0_26   \n",
       "1      [ 0.02812369  0.02294252  0.0104262   0.006939...      3  26.2_65   \n",
       "2      [ 0.08153069  0.03020425 -0.01425114 -0.042313...      2  62.0_72   \n",
       "3      [ 7.34494067e-02  3.06627049e-02 -1.24606798e-...      2  58.2_46   \n",
       "4      [ 0.09296399  0.19767287 -0.05634406 -0.004251...      7  drug_77   \n",
       "\n",
       "       purchase_size  flag_won  n_unique_okpd2  \n",
       "index                                           \n",
       "0                  1       0.0               3  \n",
       "1                  4       0.0               3  \n",
       "2                  5       0.0               3  \n",
       "3                  6       0.0               3  \n",
       "4                  1       0.0               2  "
      ]
     },
     "execution_count": 10,
     "metadata": {},
     "output_type": "execute_result"
    }
   ],
   "source": [
    "df_train = pd.read_csv(preproc['train_data'])\n",
    "df_train = df_train.set_index('index')\n",
    "\n",
    "df_train[:5]"
   ]
  },
  {
   "cell_type": "code",
   "execution_count": 11,
   "id": "98abc9da",
   "metadata": {
    "scrolled": true
   },
   "outputs": [
    {
     "data": {
      "text/html": [
       "<div>\n",
       "<style scoped>\n",
       "    .dataframe tbody tr th:only-of-type {\n",
       "        vertical-align: middle;\n",
       "    }\n",
       "\n",
       "    .dataframe tbody tr th {\n",
       "        vertical-align: top;\n",
       "    }\n",
       "\n",
       "    .dataframe thead th {\n",
       "        text-align: right;\n",
       "    }\n",
       "</style>\n",
       "<table border=\"1\" class=\"dataframe\">\n",
       "  <thead>\n",
       "    <tr style=\"text-align: right;\">\n",
       "      <th></th>\n",
       "      <th>purchase</th>\n",
       "      <th>forsmallbiz</th>\n",
       "      <th>price</th>\n",
       "      <th>customer</th>\n",
       "      <th>supplier</th>\n",
       "      <th>is_winner</th>\n",
       "      <th>vectorized</th>\n",
       "      <th>month</th>\n",
       "      <th>reg_code</th>\n",
       "      <th>purchase_size</th>\n",
       "      <th>flag_won</th>\n",
       "      <th>n_unique_okpd2</th>\n",
       "    </tr>\n",
       "    <tr>\n",
       "      <th>index</th>\n",
       "      <th></th>\n",
       "      <th></th>\n",
       "      <th></th>\n",
       "      <th></th>\n",
       "      <th></th>\n",
       "      <th></th>\n",
       "      <th></th>\n",
       "      <th></th>\n",
       "      <th></th>\n",
       "      <th></th>\n",
       "      <th></th>\n",
       "      <th></th>\n",
       "    </tr>\n",
       "  </thead>\n",
       "  <tbody>\n",
       "    <tr>\n",
       "      <th>0</th>\n",
       "      <td>596065</td>\n",
       "      <td>0</td>\n",
       "      <td>53874.00</td>\n",
       "      <td>9582</td>\n",
       "      <td>2940</td>\n",
       "      <td>1</td>\n",
       "      <td>[ 0.12289912  0.24247403 -0.06769952 -0.004744...</td>\n",
       "      <td>3</td>\n",
       "      <td>drug_77</td>\n",
       "      <td>1</td>\n",
       "      <td>1.0</td>\n",
       "      <td>2</td>\n",
       "    </tr>\n",
       "    <tr>\n",
       "      <th>1</th>\n",
       "      <td>467821</td>\n",
       "      <td>1</td>\n",
       "      <td>7500000.00</td>\n",
       "      <td>9591</td>\n",
       "      <td>7538</td>\n",
       "      <td>1</td>\n",
       "      <td>[ 0.05361487  0.01407206 -0.00556184 -0.023678...</td>\n",
       "      <td>9</td>\n",
       "      <td>38.2_77</td>\n",
       "      <td>1</td>\n",
       "      <td>0.0</td>\n",
       "      <td>4</td>\n",
       "    </tr>\n",
       "    <tr>\n",
       "      <th>2</th>\n",
       "      <td>88928</td>\n",
       "      <td>1</td>\n",
       "      <td>281370.35</td>\n",
       "      <td>7831</td>\n",
       "      <td>11016</td>\n",
       "      <td>0</td>\n",
       "      <td>[ 0.07224658  0.01950507  0.01632774  0.025729...</td>\n",
       "      <td>8</td>\n",
       "      <td>26.2_68</td>\n",
       "      <td>3</td>\n",
       "      <td>0.0</td>\n",
       "      <td>5</td>\n",
       "    </tr>\n",
       "    <tr>\n",
       "      <th>3</th>\n",
       "      <td>88928</td>\n",
       "      <td>1</td>\n",
       "      <td>281370.35</td>\n",
       "      <td>7831</td>\n",
       "      <td>574</td>\n",
       "      <td>0</td>\n",
       "      <td>[ 0.07224658  0.01950507  0.01632774  0.025729...</td>\n",
       "      <td>8</td>\n",
       "      <td>26.2_68</td>\n",
       "      <td>3</td>\n",
       "      <td>0.0</td>\n",
       "      <td>8</td>\n",
       "    </tr>\n",
       "    <tr>\n",
       "      <th>4</th>\n",
       "      <td>88928</td>\n",
       "      <td>1</td>\n",
       "      <td>281370.35</td>\n",
       "      <td>7831</td>\n",
       "      <td>7749</td>\n",
       "      <td>0</td>\n",
       "      <td>[ 0.07224658  0.01950507  0.01632774  0.025729...</td>\n",
       "      <td>8</td>\n",
       "      <td>26.2_68</td>\n",
       "      <td>3</td>\n",
       "      <td>0.0</td>\n",
       "      <td>8</td>\n",
       "    </tr>\n",
       "  </tbody>\n",
       "</table>\n",
       "</div>"
      ],
      "text/plain": [
       "       purchase  forsmallbiz       price  customer  supplier  is_winner  \\\n",
       "index                                                                     \n",
       "0        596065            0    53874.00      9582      2940          1   \n",
       "1        467821            1  7500000.00      9591      7538          1   \n",
       "2         88928            1   281370.35      7831     11016          0   \n",
       "3         88928            1   281370.35      7831       574          0   \n",
       "4         88928            1   281370.35      7831      7749          0   \n",
       "\n",
       "                                              vectorized  month reg_code  \\\n",
       "index                                                                      \n",
       "0      [ 0.12289912  0.24247403 -0.06769952 -0.004744...      3  drug_77   \n",
       "1      [ 0.05361487  0.01407206 -0.00556184 -0.023678...      9  38.2_77   \n",
       "2      [ 0.07224658  0.01950507  0.01632774  0.025729...      8  26.2_68   \n",
       "3      [ 0.07224658  0.01950507  0.01632774  0.025729...      8  26.2_68   \n",
       "4      [ 0.07224658  0.01950507  0.01632774  0.025729...      8  26.2_68   \n",
       "\n",
       "       purchase_size  flag_won  n_unique_okpd2  \n",
       "index                                           \n",
       "0                  1       1.0               2  \n",
       "1                  1       0.0               4  \n",
       "2                  3       0.0               5  \n",
       "3                  3       0.0               8  \n",
       "4                  3       0.0               8  "
      ]
     },
     "execution_count": 11,
     "metadata": {},
     "output_type": "execute_result"
    }
   ],
   "source": [
    "df_test = pd.read_csv(preproc['test_data'])\n",
    "df_test = df_test.set_index('index')\n",
    "\n",
    "df_test[:5]"
   ]
  },
  {
   "cell_type": "code",
   "execution_count": 12,
   "id": "7c3f9b7d",
   "metadata": {},
   "outputs": [],
   "source": [
    "df_train = df_train.astype(preproc['change_type_columns'])\n",
    "df_test = df_test.astype(preproc['change_type_columns'])"
   ]
  },
  {
   "cell_type": "code",
   "execution_count": 13,
   "id": "2e1cf0e3",
   "metadata": {},
   "outputs": [],
   "source": [
    "df_train = df_train.drop(columns=train['drop_columns'])\n",
    "df_test = df_test.drop(columns=train['drop_columns'])"
   ]
  },
  {
   "cell_type": "code",
   "execution_count": 14,
   "id": "aec5173c",
   "metadata": {
    "scrolled": true
   },
   "outputs": [
    {
     "data": {
      "text/html": [
       "<div>\n",
       "<style scoped>\n",
       "    .dataframe tbody tr th:only-of-type {\n",
       "        vertical-align: middle;\n",
       "    }\n",
       "\n",
       "    .dataframe tbody tr th {\n",
       "        vertical-align: top;\n",
       "    }\n",
       "\n",
       "    .dataframe thead th {\n",
       "        text-align: right;\n",
       "    }\n",
       "</style>\n",
       "<table border=\"1\" class=\"dataframe\">\n",
       "  <thead>\n",
       "    <tr style=\"text-align: right;\">\n",
       "      <th></th>\n",
       "      <th>forsmallbiz</th>\n",
       "      <th>price</th>\n",
       "      <th>supplier</th>\n",
       "      <th>is_winner</th>\n",
       "      <th>month</th>\n",
       "      <th>reg_code</th>\n",
       "      <th>purchase_size</th>\n",
       "      <th>flag_won</th>\n",
       "      <th>n_unique_okpd2</th>\n",
       "    </tr>\n",
       "    <tr>\n",
       "      <th>index</th>\n",
       "      <th></th>\n",
       "      <th></th>\n",
       "      <th></th>\n",
       "      <th></th>\n",
       "      <th></th>\n",
       "      <th></th>\n",
       "      <th></th>\n",
       "      <th></th>\n",
       "      <th></th>\n",
       "    </tr>\n",
       "  </thead>\n",
       "  <tbody>\n",
       "    <tr>\n",
       "      <th>0</th>\n",
       "      <td>1</td>\n",
       "      <td>406903.35</td>\n",
       "      <td>40062</td>\n",
       "      <td>0</td>\n",
       "      <td>2</td>\n",
       "      <td>62.0_26</td>\n",
       "      <td>1</td>\n",
       "      <td>0.0</td>\n",
       "      <td>3</td>\n",
       "    </tr>\n",
       "    <tr>\n",
       "      <th>1</th>\n",
       "      <td>1</td>\n",
       "      <td>299821.66</td>\n",
       "      <td>40062</td>\n",
       "      <td>0</td>\n",
       "      <td>3</td>\n",
       "      <td>26.2_65</td>\n",
       "      <td>4</td>\n",
       "      <td>0.0</td>\n",
       "      <td>3</td>\n",
       "    </tr>\n",
       "    <tr>\n",
       "      <th>2</th>\n",
       "      <td>1</td>\n",
       "      <td>366250.00</td>\n",
       "      <td>40062</td>\n",
       "      <td>0</td>\n",
       "      <td>2</td>\n",
       "      <td>62.0_72</td>\n",
       "      <td>5</td>\n",
       "      <td>0.0</td>\n",
       "      <td>3</td>\n",
       "    </tr>\n",
       "    <tr>\n",
       "      <th>3</th>\n",
       "      <td>1</td>\n",
       "      <td>85013.00</td>\n",
       "      <td>40062</td>\n",
       "      <td>0</td>\n",
       "      <td>2</td>\n",
       "      <td>58.2_46</td>\n",
       "      <td>6</td>\n",
       "      <td>0.0</td>\n",
       "      <td>3</td>\n",
       "    </tr>\n",
       "    <tr>\n",
       "      <th>4</th>\n",
       "      <td>0</td>\n",
       "      <td>13554.00</td>\n",
       "      <td>5495</td>\n",
       "      <td>1</td>\n",
       "      <td>7</td>\n",
       "      <td>drug_77</td>\n",
       "      <td>1</td>\n",
       "      <td>0.0</td>\n",
       "      <td>2</td>\n",
       "    </tr>\n",
       "  </tbody>\n",
       "</table>\n",
       "</div>"
      ],
      "text/plain": [
       "       forsmallbiz      price supplier  is_winner  month reg_code  \\\n",
       "index                                                               \n",
       "0                1  406903.35    40062          0      2  62.0_26   \n",
       "1                1  299821.66    40062          0      3  26.2_65   \n",
       "2                1  366250.00    40062          0      2  62.0_72   \n",
       "3                1   85013.00    40062          0      2  58.2_46   \n",
       "4                0   13554.00     5495          1      7  drug_77   \n",
       "\n",
       "       purchase_size  flag_won  n_unique_okpd2  \n",
       "index                                           \n",
       "0                  1       0.0               3  \n",
       "1                  4       0.0               3  \n",
       "2                  5       0.0               3  \n",
       "3                  6       0.0               3  \n",
       "4                  1       0.0               2  "
      ]
     },
     "execution_count": 14,
     "metadata": {},
     "output_type": "execute_result"
    }
   ],
   "source": [
    "df_train[:5]"
   ]
  },
  {
   "cell_type": "code",
   "execution_count": 18,
   "id": "9d46c296",
   "metadata": {
    "scrolled": false
   },
   "outputs": [
    {
     "data": {
      "text/html": [
       "<div>\n",
       "<style scoped>\n",
       "    .dataframe tbody tr th:only-of-type {\n",
       "        vertical-align: middle;\n",
       "    }\n",
       "\n",
       "    .dataframe tbody tr th {\n",
       "        vertical-align: top;\n",
       "    }\n",
       "\n",
       "    .dataframe thead th {\n",
       "        text-align: right;\n",
       "    }\n",
       "</style>\n",
       "<table border=\"1\" class=\"dataframe\">\n",
       "  <thead>\n",
       "    <tr style=\"text-align: right;\">\n",
       "      <th></th>\n",
       "      <th>forsmallbiz</th>\n",
       "      <th>price</th>\n",
       "      <th>supplier</th>\n",
       "      <th>is_winner</th>\n",
       "      <th>month</th>\n",
       "      <th>reg_code</th>\n",
       "      <th>purchase_size</th>\n",
       "      <th>flag_won</th>\n",
       "      <th>n_unique_okpd2</th>\n",
       "    </tr>\n",
       "    <tr>\n",
       "      <th>index</th>\n",
       "      <th></th>\n",
       "      <th></th>\n",
       "      <th></th>\n",
       "      <th></th>\n",
       "      <th></th>\n",
       "      <th></th>\n",
       "      <th></th>\n",
       "      <th></th>\n",
       "      <th></th>\n",
       "    </tr>\n",
       "  </thead>\n",
       "  <tbody>\n",
       "    <tr>\n",
       "      <th>0</th>\n",
       "      <td>0</td>\n",
       "      <td>53874.00</td>\n",
       "      <td>2940</td>\n",
       "      <td>1</td>\n",
       "      <td>3</td>\n",
       "      <td>drug_77</td>\n",
       "      <td>1</td>\n",
       "      <td>1.0</td>\n",
       "      <td>2</td>\n",
       "    </tr>\n",
       "    <tr>\n",
       "      <th>1</th>\n",
       "      <td>1</td>\n",
       "      <td>7500000.00</td>\n",
       "      <td>7538</td>\n",
       "      <td>1</td>\n",
       "      <td>9</td>\n",
       "      <td>38.2_77</td>\n",
       "      <td>1</td>\n",
       "      <td>0.0</td>\n",
       "      <td>4</td>\n",
       "    </tr>\n",
       "    <tr>\n",
       "      <th>2</th>\n",
       "      <td>1</td>\n",
       "      <td>281370.35</td>\n",
       "      <td>11016</td>\n",
       "      <td>0</td>\n",
       "      <td>8</td>\n",
       "      <td>26.2_68</td>\n",
       "      <td>3</td>\n",
       "      <td>0.0</td>\n",
       "      <td>5</td>\n",
       "    </tr>\n",
       "    <tr>\n",
       "      <th>3</th>\n",
       "      <td>1</td>\n",
       "      <td>281370.35</td>\n",
       "      <td>574</td>\n",
       "      <td>0</td>\n",
       "      <td>8</td>\n",
       "      <td>26.2_68</td>\n",
       "      <td>3</td>\n",
       "      <td>0.0</td>\n",
       "      <td>8</td>\n",
       "    </tr>\n",
       "    <tr>\n",
       "      <th>4</th>\n",
       "      <td>1</td>\n",
       "      <td>281370.35</td>\n",
       "      <td>7749</td>\n",
       "      <td>0</td>\n",
       "      <td>8</td>\n",
       "      <td>26.2_68</td>\n",
       "      <td>3</td>\n",
       "      <td>0.0</td>\n",
       "      <td>8</td>\n",
       "    </tr>\n",
       "  </tbody>\n",
       "</table>\n",
       "</div>"
      ],
      "text/plain": [
       "       forsmallbiz       price supplier  is_winner  month reg_code  \\\n",
       "index                                                                \n",
       "0                0    53874.00     2940          1      3  drug_77   \n",
       "1                1  7500000.00     7538          1      9  38.2_77   \n",
       "2                1   281370.35    11016          0      8  26.2_68   \n",
       "3                1   281370.35      574          0      8  26.2_68   \n",
       "4                1   281370.35     7749          0      8  26.2_68   \n",
       "\n",
       "       purchase_size  flag_won  n_unique_okpd2  \n",
       "index                                           \n",
       "0                  1       1.0               2  \n",
       "1                  1       0.0               4  \n",
       "2                  3       0.0               5  \n",
       "3                  3       0.0               8  \n",
       "4                  3       0.0               8  "
      ]
     },
     "execution_count": 18,
     "metadata": {},
     "output_type": "execute_result"
    }
   ],
   "source": [
    "df_test[:5]"
   ]
  },
  {
   "cell_type": "code",
   "execution_count": 19,
   "id": "3da5ca7e",
   "metadata": {},
   "outputs": [],
   "source": [
    "X = df_train.drop('is_winner', axis=1)\n",
    "Y = df_train['is_winner']"
   ]
  },
  {
   "cell_type": "code",
   "execution_count": 20,
   "id": "0842257f",
   "metadata": {},
   "outputs": [],
   "source": [
    "x_test = df_test.drop('is_winner', axis=1)\n",
    "y_test = df_test['is_winner']"
   ]
  },
  {
   "cell_type": "code",
   "execution_count": 66,
   "id": "487bfdbb",
   "metadata": {},
   "outputs": [],
   "source": [
    "metrics = pd.DataFrame()"
   ]
  },
  {
   "cell_type": "code",
   "execution_count": 67,
   "id": "161ed1f8",
   "metadata": {},
   "outputs": [],
   "source": [
    "x_train_, x_val_, y_train_, y_val_ = train_test_split(X, Y,\n",
    "                                                      test_size=train['test_size'],\n",
    "                                                      stratify=Y,\n",
    "                                                      random_state=train['random_state'])\n",
    "\n",
    "ratio = y_val_[y_val_ == 0].shape[0] / y_val_[y_val_ == 1].shape[0]"
   ]
  },
  {
   "cell_type": "markdown",
   "id": "f3cfbbda",
   "metadata": {},
   "source": [
    "## Catboost"
   ]
  },
  {
   "cell_type": "code",
   "execution_count": 68,
   "id": "c53eafd3",
   "metadata": {
    "scrolled": true
   },
   "outputs": [
    {
     "data": {
      "text/plain": [
       "<catboost.core.CatBoostClassifier at 0x7f2500701cc0>"
      ]
     },
     "execution_count": 68,
     "metadata": {},
     "output_type": "execute_result"
    }
   ],
   "source": [
    "model = CatBoostClassifier(random_state=train['random_state'], \n",
    "                           scale_pos_weight=ratio,\n",
    "                           eval_metric='AUC',\n",
    "                           cat_features=train['cat_features'])\n",
    "\n",
    "model.fit(x_train_, y_train_,\n",
    "          eval_set=[(x_val_, y_val_)],\n",
    "          early_stopping_rounds=100,\n",
    "          verbose=0)"
   ]
  },
  {
   "cell_type": "code",
   "execution_count": 69,
   "id": "210d143a",
   "metadata": {},
   "outputs": [],
   "source": [
    "y_pred = model.predict(x_train_)\n",
    "y_score = model.predict_proba(x_train_)\n",
    "\n",
    "metrics = pd.concat([metrics, get_metrics(y_train_, y_pred, y_score, \n",
    "                                          'Catboost_baseline_train')])"
   ]
  },
  {
   "cell_type": "code",
   "execution_count": 70,
   "id": "35e8cf3c",
   "metadata": {},
   "outputs": [],
   "source": [
    "y_pred = model.predict(x_test)\n",
    "y_score = model.predict_proba(x_test)\n",
    "\n",
    "metrics = pd.concat([metrics, get_metrics(y_test, y_pred, y_score, \n",
    "                                          'Catboost_baseline_test')])"
   ]
  },
  {
   "cell_type": "code",
   "execution_count": 71,
   "id": "f21241fd",
   "metadata": {
    "scrolled": true
   },
   "outputs": [
    {
     "data": {
      "text/html": [
       "<div>\n",
       "<style scoped>\n",
       "    .dataframe tbody tr th:only-of-type {\n",
       "        vertical-align: middle;\n",
       "    }\n",
       "\n",
       "    .dataframe tbody tr th {\n",
       "        vertical-align: top;\n",
       "    }\n",
       "\n",
       "    .dataframe thead th {\n",
       "        text-align: right;\n",
       "    }\n",
       "</style>\n",
       "<table border=\"1\" class=\"dataframe\">\n",
       "  <thead>\n",
       "    <tr style=\"text-align: right;\">\n",
       "      <th></th>\n",
       "      <th>model</th>\n",
       "      <th>Accuracy</th>\n",
       "      <th>ROC_AUC</th>\n",
       "      <th>Precision</th>\n",
       "      <th>Recall</th>\n",
       "      <th>f1</th>\n",
       "      <th>Logloss</th>\n",
       "    </tr>\n",
       "  </thead>\n",
       "  <tbody>\n",
       "    <tr>\n",
       "      <th>0</th>\n",
       "      <td>Catboost_baseline_train</td>\n",
       "      <td>0.874073</td>\n",
       "      <td>0.936535</td>\n",
       "      <td>0.851756</td>\n",
       "      <td>0.770227</td>\n",
       "      <td>0.808942</td>\n",
       "      <td>0.310368</td>\n",
       "    </tr>\n",
       "    <tr>\n",
       "      <th>0</th>\n",
       "      <td>Catboost_baseline_test</td>\n",
       "      <td>0.648642</td>\n",
       "      <td>0.795729</td>\n",
       "      <td>0.495167</td>\n",
       "      <td>0.864295</td>\n",
       "      <td>0.629617</td>\n",
       "      <td>1.498652</td>\n",
       "    </tr>\n",
       "  </tbody>\n",
       "</table>\n",
       "</div>"
      ],
      "text/plain": [
       "                     model  Accuracy   ROC_AUC  Precision    Recall        f1  \\\n",
       "0  Catboost_baseline_train  0.874073  0.936535   0.851756  0.770227  0.808942   \n",
       "0   Catboost_baseline_test  0.648642  0.795729   0.495167  0.864295  0.629617   \n",
       "\n",
       "    Logloss  \n",
       "0  0.310368  \n",
       "0  1.498652  "
      ]
     },
     "execution_count": 71,
     "metadata": {},
     "output_type": "execute_result"
    }
   ],
   "source": [
    "metrics"
   ]
  },
  {
   "cell_type": "code",
   "execution_count": 72,
   "id": "d43a5d68",
   "metadata": {},
   "outputs": [],
   "source": [
    "win_predictor_metrics['basic_metrics']['catboost'] = get_metrics_in_dict(\n",
    "    y_test, y_pred, y_score)"
   ]
  },
  {
   "cell_type": "markdown",
   "id": "439ca3d5",
   "metadata": {},
   "source": [
    "## XGboost"
   ]
  },
  {
   "cell_type": "code",
   "execution_count": 73,
   "id": "7ab49b64",
   "metadata": {},
   "outputs": [
    {
     "data": {
      "text/html": [
       "<style>#sk-container-id-4 {color: black;background-color: white;}#sk-container-id-4 pre{padding: 0;}#sk-container-id-4 div.sk-toggleable {background-color: white;}#sk-container-id-4 label.sk-toggleable__label {cursor: pointer;display: block;width: 100%;margin-bottom: 0;padding: 0.3em;box-sizing: border-box;text-align: center;}#sk-container-id-4 label.sk-toggleable__label-arrow:before {content: \"▸\";float: left;margin-right: 0.25em;color: #696969;}#sk-container-id-4 label.sk-toggleable__label-arrow:hover:before {color: black;}#sk-container-id-4 div.sk-estimator:hover label.sk-toggleable__label-arrow:before {color: black;}#sk-container-id-4 div.sk-toggleable__content {max-height: 0;max-width: 0;overflow: hidden;text-align: left;background-color: #f0f8ff;}#sk-container-id-4 div.sk-toggleable__content pre {margin: 0.2em;color: black;border-radius: 0.25em;background-color: #f0f8ff;}#sk-container-id-4 input.sk-toggleable__control:checked~div.sk-toggleable__content {max-height: 200px;max-width: 100%;overflow: auto;}#sk-container-id-4 input.sk-toggleable__control:checked~label.sk-toggleable__label-arrow:before {content: \"▾\";}#sk-container-id-4 div.sk-estimator input.sk-toggleable__control:checked~label.sk-toggleable__label {background-color: #d4ebff;}#sk-container-id-4 div.sk-label input.sk-toggleable__control:checked~label.sk-toggleable__label {background-color: #d4ebff;}#sk-container-id-4 input.sk-hidden--visually {border: 0;clip: rect(1px 1px 1px 1px);clip: rect(1px, 1px, 1px, 1px);height: 1px;margin: -1px;overflow: hidden;padding: 0;position: absolute;width: 1px;}#sk-container-id-4 div.sk-estimator {font-family: monospace;background-color: #f0f8ff;border: 1px dotted black;border-radius: 0.25em;box-sizing: border-box;margin-bottom: 0.5em;}#sk-container-id-4 div.sk-estimator:hover {background-color: #d4ebff;}#sk-container-id-4 div.sk-parallel-item::after {content: \"\";width: 100%;border-bottom: 1px solid gray;flex-grow: 1;}#sk-container-id-4 div.sk-label:hover label.sk-toggleable__label {background-color: #d4ebff;}#sk-container-id-4 div.sk-serial::before {content: \"\";position: absolute;border-left: 1px solid gray;box-sizing: border-box;top: 0;bottom: 0;left: 50%;z-index: 0;}#sk-container-id-4 div.sk-serial {display: flex;flex-direction: column;align-items: center;background-color: white;padding-right: 0.2em;padding-left: 0.2em;position: relative;}#sk-container-id-4 div.sk-item {position: relative;z-index: 1;}#sk-container-id-4 div.sk-parallel {display: flex;align-items: stretch;justify-content: center;background-color: white;position: relative;}#sk-container-id-4 div.sk-item::before, #sk-container-id-4 div.sk-parallel-item::before {content: \"\";position: absolute;border-left: 1px solid gray;box-sizing: border-box;top: 0;bottom: 0;left: 50%;z-index: -1;}#sk-container-id-4 div.sk-parallel-item {display: flex;flex-direction: column;z-index: 1;position: relative;background-color: white;}#sk-container-id-4 div.sk-parallel-item:first-child::after {align-self: flex-end;width: 50%;}#sk-container-id-4 div.sk-parallel-item:last-child::after {align-self: flex-start;width: 50%;}#sk-container-id-4 div.sk-parallel-item:only-child::after {width: 0;}#sk-container-id-4 div.sk-dashed-wrapped {border: 1px dashed gray;margin: 0 0.4em 0.5em 0.4em;box-sizing: border-box;padding-bottom: 0.4em;background-color: white;}#sk-container-id-4 div.sk-label label {font-family: monospace;font-weight: bold;display: inline-block;line-height: 1.2em;}#sk-container-id-4 div.sk-label-container {text-align: center;}#sk-container-id-4 div.sk-container {/* jupyter's `normalize.less` sets `[hidden] { display: none; }` but bootstrap.min.css set `[hidden] { display: none !important; }` so we also need the `!important` here to be able to override the default hidden behavior on the sphinx rendered scikit-learn.org. See: https://github.com/scikit-learn/scikit-learn/issues/21755 */display: inline-block !important;position: relative;}#sk-container-id-4 div.sk-text-repr-fallback {display: none;}</style><div id=\"sk-container-id-4\" class=\"sk-top-container\"><div class=\"sk-text-repr-fallback\"><pre>XGBClassifier(base_score=None, booster=None, callbacks=None,\n",
       "              colsample_bylevel=None, colsample_bynode=None,\n",
       "              colsample_bytree=None, early_stopping_rounds=None,\n",
       "              enable_categorical=True, eval_metric=None, feature_types=None,\n",
       "              gamma=None, gpu_id=None, grow_policy=None, importance_type=None,\n",
       "              interaction_constraints=None, learning_rate=None, max_bin=None,\n",
       "              max_cat_threshold=None, max_cat_to_onehot=None,\n",
       "              max_delta_step=None, max_depth=None, max_leaves=None,\n",
       "              min_child_weight=None, missing=nan, monotone_constraints=None,\n",
       "              n_estimators=100, n_jobs=-1, num_parallel_tree=None,\n",
       "              predictor=None, random_state=42, ...)</pre><b>In a Jupyter environment, please rerun this cell to show the HTML representation or trust the notebook. <br />On GitHub, the HTML representation is unable to render, please try loading this page with nbviewer.org.</b></div><div class=\"sk-container\" hidden><div class=\"sk-item\"><div class=\"sk-estimator sk-toggleable\"><input class=\"sk-toggleable__control sk-hidden--visually\" id=\"sk-estimator-id-4\" type=\"checkbox\" checked><label for=\"sk-estimator-id-4\" class=\"sk-toggleable__label sk-toggleable__label-arrow\">XGBClassifier</label><div class=\"sk-toggleable__content\"><pre>XGBClassifier(base_score=None, booster=None, callbacks=None,\n",
       "              colsample_bylevel=None, colsample_bynode=None,\n",
       "              colsample_bytree=None, early_stopping_rounds=None,\n",
       "              enable_categorical=True, eval_metric=None, feature_types=None,\n",
       "              gamma=None, gpu_id=None, grow_policy=None, importance_type=None,\n",
       "              interaction_constraints=None, learning_rate=None, max_bin=None,\n",
       "              max_cat_threshold=None, max_cat_to_onehot=None,\n",
       "              max_delta_step=None, max_depth=None, max_leaves=None,\n",
       "              min_child_weight=None, missing=nan, monotone_constraints=None,\n",
       "              n_estimators=100, n_jobs=-1, num_parallel_tree=None,\n",
       "              predictor=None, random_state=42, ...)</pre></div></div></div></div></div>"
      ],
      "text/plain": [
       "XGBClassifier(base_score=None, booster=None, callbacks=None,\n",
       "              colsample_bylevel=None, colsample_bynode=None,\n",
       "              colsample_bytree=None, early_stopping_rounds=None,\n",
       "              enable_categorical=True, eval_metric=None, feature_types=None,\n",
       "              gamma=None, gpu_id=None, grow_policy=None, importance_type=None,\n",
       "              interaction_constraints=None, learning_rate=None, max_bin=None,\n",
       "              max_cat_threshold=None, max_cat_to_onehot=None,\n",
       "              max_delta_step=None, max_depth=None, max_leaves=None,\n",
       "              min_child_weight=None, missing=nan, monotone_constraints=None,\n",
       "              n_estimators=100, n_jobs=-1, num_parallel_tree=None,\n",
       "              predictor=None, random_state=42, ...)"
      ]
     },
     "execution_count": 73,
     "metadata": {},
     "output_type": "execute_result"
    }
   ],
   "source": [
    "model = XGBClassifier(scale_pos_weight=ratio, \n",
    "                      random_state=train['random_state'],\n",
    "                      tree_method='hist',\n",
    "                      enable_categorical=True,\n",
    "                      n_jobs=-1)\n",
    "\n",
    "model.fit(x_train_, y_train_,\n",
    "          eval_set=[(x_val_, y_val_)],\n",
    "          eval_metric='auc',\n",
    "          early_stopping_rounds=100,\n",
    "          verbose=0)"
   ]
  },
  {
   "cell_type": "code",
   "execution_count": 74,
   "id": "4bbfe53b",
   "metadata": {},
   "outputs": [],
   "source": [
    "y_pred = model.predict(x_train_)\n",
    "y_score = model.predict_proba(x_train_)\n",
    "\n",
    "metrics = pd.concat([metrics, get_metrics(y_train_, y_pred, y_score, \n",
    "                                          'Xgboost_baseline_train')])"
   ]
  },
  {
   "cell_type": "code",
   "execution_count": 75,
   "id": "007308af",
   "metadata": {},
   "outputs": [],
   "source": [
    "y_pred = model.predict(x_test)\n",
    "y_score = model.predict_proba(x_test)\n",
    "\n",
    "metrics = pd.concat([metrics, get_metrics(y_test, y_pred, y_score, \n",
    "                                          'Xgboost_baseline_test')])"
   ]
  },
  {
   "cell_type": "code",
   "execution_count": 76,
   "id": "8a1b7335",
   "metadata": {},
   "outputs": [
    {
     "data": {
      "text/html": [
       "<div>\n",
       "<style scoped>\n",
       "    .dataframe tbody tr th:only-of-type {\n",
       "        vertical-align: middle;\n",
       "    }\n",
       "\n",
       "    .dataframe tbody tr th {\n",
       "        vertical-align: top;\n",
       "    }\n",
       "\n",
       "    .dataframe thead th {\n",
       "        text-align: right;\n",
       "    }\n",
       "</style>\n",
       "<table border=\"1\" class=\"dataframe\">\n",
       "  <thead>\n",
       "    <tr style=\"text-align: right;\">\n",
       "      <th></th>\n",
       "      <th>model</th>\n",
       "      <th>Accuracy</th>\n",
       "      <th>ROC_AUC</th>\n",
       "      <th>Precision</th>\n",
       "      <th>Recall</th>\n",
       "      <th>f1</th>\n",
       "      <th>Logloss</th>\n",
       "    </tr>\n",
       "  </thead>\n",
       "  <tbody>\n",
       "    <tr>\n",
       "      <th>0</th>\n",
       "      <td>Catboost_baseline_train</td>\n",
       "      <td>0.874073</td>\n",
       "      <td>0.936535</td>\n",
       "      <td>0.851756</td>\n",
       "      <td>0.770227</td>\n",
       "      <td>0.808942</td>\n",
       "      <td>0.310368</td>\n",
       "    </tr>\n",
       "    <tr>\n",
       "      <th>0</th>\n",
       "      <td>Catboost_baseline_test</td>\n",
       "      <td>0.648642</td>\n",
       "      <td>0.795729</td>\n",
       "      <td>0.495167</td>\n",
       "      <td>0.864295</td>\n",
       "      <td>0.629617</td>\n",
       "      <td>1.498652</td>\n",
       "    </tr>\n",
       "    <tr>\n",
       "      <th>0</th>\n",
       "      <td>Xgboost_baseline_train</td>\n",
       "      <td>0.875594</td>\n",
       "      <td>0.927699</td>\n",
       "      <td>0.869200</td>\n",
       "      <td>0.754039</td>\n",
       "      <td>0.807534</td>\n",
       "      <td>0.322288</td>\n",
       "    </tr>\n",
       "    <tr>\n",
       "      <th>0</th>\n",
       "      <td>Xgboost_baseline_test</td>\n",
       "      <td>0.648594</td>\n",
       "      <td>0.779512</td>\n",
       "      <td>0.495018</td>\n",
       "      <td>0.845074</td>\n",
       "      <td>0.624325</td>\n",
       "      <td>1.132961</td>\n",
       "    </tr>\n",
       "  </tbody>\n",
       "</table>\n",
       "</div>"
      ],
      "text/plain": [
       "                     model  Accuracy   ROC_AUC  Precision    Recall        f1  \\\n",
       "0  Catboost_baseline_train  0.874073  0.936535   0.851756  0.770227  0.808942   \n",
       "0   Catboost_baseline_test  0.648642  0.795729   0.495167  0.864295  0.629617   \n",
       "0   Xgboost_baseline_train  0.875594  0.927699   0.869200  0.754039  0.807534   \n",
       "0    Xgboost_baseline_test  0.648594  0.779512   0.495018  0.845074  0.624325   \n",
       "\n",
       "    Logloss  \n",
       "0  0.310368  \n",
       "0  1.498652  \n",
       "0  0.322288  \n",
       "0  1.132961  "
      ]
     },
     "execution_count": 76,
     "metadata": {},
     "output_type": "execute_result"
    }
   ],
   "source": [
    "metrics"
   ]
  },
  {
   "cell_type": "code",
   "execution_count": 77,
   "id": "329ee092",
   "metadata": {},
   "outputs": [],
   "source": [
    "win_predictor_metrics['basic_metrics']['xgboost'] = get_metrics_in_dict(\n",
    "    y_test, y_pred, y_score)"
   ]
  },
  {
   "cell_type": "markdown",
   "id": "a37b3e6a",
   "metadata": {},
   "source": [
    "# Tune"
   ]
  },
  {
   "cell_type": "markdown",
   "id": "4535b52e",
   "metadata": {},
   "source": [
    "## Catboost"
   ]
  },
  {
   "cell_type": "code",
   "execution_count": 17,
   "id": "379ffca1",
   "metadata": {},
   "outputs": [],
   "source": [
    "def objective(trial: optuna.Trial, x: pd.DataFrame, y: pd.Series) -> float:\n",
    "    \"\"\"\n",
    "    Функция для оптимизации гиперпараметров CatBoostClassifier с помощью Optuna.\n",
    "\n",
    "    Parameters\n",
    "    ----------\n",
    "    trial : optuna.Trial\n",
    "        Объект Trial из Optuna для выборки и хранения параметров.\n",
    "    x : pd.DataFrame\n",
    "        Матрица признаков.\n",
    "    y : pd.Series\n",
    "        Вектор целевой переменной.\n",
    "\n",
    "    Returns\n",
    "    -------\n",
    "    float\n",
    "        Среднее значение метрики AUC-ROC для скользящего контроля.\n",
    "\n",
    "    \"\"\"\n",
    "\n",
    "    # Установка гиперпараметров для подбора\n",
    "    params = {\n",
    "        'n_estimators': trial.suggest_categorical('n_estimators', [1000]),\n",
    "#         'learning_rate': trial.suggest_float('learning_rate', 0.001, 1),\n",
    "        'learning_rate': trial.suggest_categorical('learning_rate', [0.0787449098272658]),\n",
    "        'depth': trial.suggest_int('depth', 4, 10),\n",
    "        'l2_leaf_reg': trial.suggest_float('l2_leaf_reg', 0.0001, 100),\n",
    "        'random_strength': trial.suggest_float('random_strength', 10, 50),\n",
    "        'bagging_temperature': trial.suggest_float('bagging_temperature', 0, 100),\n",
    "        'border_count': trial.suggest_categorical('border_count', [128]),\n",
    "        'grow_policy': trial.suggest_categorical('grow_policy', ['SymmetricTree', 'Depthwise', 'Lossguide']),\n",
    "        'random_state': train['random_state']  # предполагается, что `train` - глобальная переменная\n",
    "    }\n",
    "\n",
    "    # Выполнение скользящего контроля\n",
    "    cv_pred = np.empty(train['N_FOLDS'])\n",
    "    cv = StratifiedKFold(n_splits=train['N_FOLDS'], shuffle=True, random_state=train['random_state'])\n",
    "    for fold, (train_idx, test_idx) in enumerate(cv.split(x, y)):\n",
    "        x_train_, x_val_ = x.iloc[train_idx], x.iloc[test_idx]\n",
    "        y_train_, y_val_ = y.iloc[train_idx], y.iloc[test_idx]\n",
    "        \n",
    "        ratio = y_train_[y_train_ == 0].shape[0] / y_train_[y_train_ == 1].shape[0]\n",
    "        \n",
    "        model = CatBoostClassifier(\n",
    "            scale_pos_weight=ratio,\n",
    "            cat_features=['supplier', 'reg_code'],\n",
    "            verbose=-1,\n",
    "            **params\n",
    "        )\n",
    "        model.fit(x_train_, y_train_,\n",
    "                  eval_set=[(x_val_, y_val_)],\n",
    "                  early_stopping_rounds=100,\n",
    "                  verbose=0)\n",
    "\n",
    "        y_pred = model.predict(x_val_)\n",
    "        y_proba = model.predict_proba(x_val_)[:, 1]\n",
    "\n",
    "        cv_pred[fold] = roc_auc_score(y_val_, y_proba)\n",
    "\n",
    "    return np.mean(cv_pred)"
   ]
  },
  {
   "cell_type": "code",
   "execution_count": 20,
   "id": "7869b160",
   "metadata": {
    "scrolled": true
   },
   "outputs": [
    {
     "name": "stderr",
     "output_type": "stream",
     "text": [
      "\u001b[32m[I 2023-04-15 00:51:28,528]\u001b[0m A new study created in memory with name: no-name-7c9e2f7f-cd62-416a-928f-0fe9d90dfcaa\u001b[0m\n"
     ]
    },
    {
     "data": {
      "application/vnd.jupyter.widget-view+json": {
       "model_id": "575de1513dab4472adfee010511c472d",
       "version_major": 2,
       "version_minor": 0
      },
      "text/plain": [
       "  0%|          | 0/10 [00:00<?, ?it/s]"
      ]
     },
     "metadata": {},
     "output_type": "display_data"
    },
    {
     "name": "stdout",
     "output_type": "stream",
     "text": [
      "[LightGBM] [Warning] feature_fraction is set=0.9401971258377044, colsample_bytree=1.0 will be ignored. Current value: feature_fraction=0.9401971258377044\n",
      "[LightGBM] [Warning] lambda_l1 is set=49, reg_alpha=0.0 will be ignored. Current value: lambda_l1=49\n",
      "[LightGBM] [Warning] bagging_fraction is set=0.5073861224436704, subsample=1.0 will be ignored. Current value: bagging_fraction=0.5073861224436704\n",
      "[LightGBM] [Warning] bagging_freq is set=6, subsample_freq=0 will be ignored. Current value: bagging_freq=6\n",
      "[LightGBM] [Warning] lambda_l2 is set=55, reg_lambda=0.0 will be ignored. Current value: lambda_l2=55\n",
      "[LightGBM] [Warning] feature_fraction is set=0.9026119181343337, colsample_bytree=1.0 will be ignored. Current value: feature_fraction=0.9026119181343337\n",
      "[LightGBM] [Warning] lambda_l1 is set=8, reg_alpha=0.0 will be ignored. Current value: lambda_l1=8\n",
      "[LightGBM] [Warning] bagging_fraction is set=0.4372834022829647, subsample=1.0 will be ignored. Current value: bagging_fraction=0.4372834022829647\n",
      "[LightGBM] [Warning] bagging_freq is set=2, subsample_freq=0 will be ignored. Current value: bagging_freq=2\n",
      "[LightGBM] [Warning] lambda_l2 is set=63, reg_lambda=0.0 will be ignored. Current value: lambda_l2=63\n",
      "[LightGBM] [Warning] feature_fraction is set=0.7594861781864997, colsample_bytree=1.0 will be ignored. Current value: feature_fraction=0.7594861781864997\n",
      "[LightGBM] [Warning] lambda_l1 is set=85, reg_alpha=0.0 will be ignored. Current value: lambda_l1=85\n",
      "[LightGBM] [Warning] bagging_fraction is set=0.990167293084613, subsample=1.0 will be ignored. Current value: bagging_fraction=0.990167293084613\n",
      "[LightGBM] [Warning] bagging_freq is set=6, subsample_freq=0 will be ignored. Current value: bagging_freq=6\n",
      "[LightGBM] [Warning] lambda_l2 is set=62, reg_lambda=0.0 will be ignored. Current value: lambda_l2=62\n",
      "[LightGBM] [Warning] feature_fraction is set=0.9126760465199291, colsample_bytree=1.0 will be ignored. Current value: feature_fraction=0.9126760465199291\n",
      "[LightGBM] [Warning] lambda_l1 is set=35, reg_alpha=0.0 will be ignored. Current value: lambda_l1=35\n",
      "[LightGBM] [Warning] bagging_fraction is set=0.7156418976635767, subsample=1.0 will be ignored. Current value: bagging_fraction=0.7156418976635767\n",
      "[LightGBM] [Warning] bagging_freq is set=3, subsample_freq=0 will be ignored. Current value: bagging_freq=3\n",
      "[LightGBM] [Warning] lambda_l2 is set=76, reg_lambda=0.0 will be ignored. Current value: lambda_l2=76\n",
      "[LightGBM] [Warning] feature_fraction is set=0.3550621745605098, colsample_bytree=1.0 will be ignored. Current value: feature_fraction=0.3550621745605098\n",
      "[LightGBM] [Warning] lambda_l1 is set=7, reg_alpha=0.0 will be ignored. Current value: lambda_l1=7\n",
      "[LightGBM] [Warning] bagging_fraction is set=0.5660332332806854, subsample=1.0 will be ignored. Current value: bagging_fraction=0.5660332332806854\n",
      "[LightGBM] [Warning] bagging_freq is set=3, subsample_freq=0 will be ignored. Current value: bagging_freq=3\n",
      "[LightGBM] [Warning] lambda_l2 is set=36, reg_lambda=0.0 will be ignored. Current value: lambda_l2=36\n",
      "[LightGBM] [Warning] feature_fraction is set=0.9234705245437516, colsample_bytree=1.0 will be ignored. Current value: feature_fraction=0.9234705245437516\n",
      "[LightGBM] [Warning] lambda_l1 is set=20, reg_alpha=0.0 will be ignored. Current value: lambda_l1=20\n",
      "[LightGBM] [Warning] bagging_fraction is set=0.8681982413619909, subsample=1.0 will be ignored. Current value: bagging_fraction=0.8681982413619909\n",
      "[LightGBM] [Warning] bagging_freq is set=2, subsample_freq=0 will be ignored. Current value: bagging_freq=2\n",
      "[LightGBM] [Warning] lambda_l2 is set=59, reg_lambda=0.0 will be ignored. Current value: lambda_l2=59\n"
     ]
    },
    {
     "name": "stderr",
     "output_type": "stream",
     "text": [
      "\n",
      "KeyboardInterrupt\n",
      "\n"
     ]
    }
   ],
   "source": [
    "func = lambda trial: objective(trial, X, Y)\n",
    "\n",
    "study = optuna.create_study(direction=\"maximize\")\n",
    "study.optimize(func, show_progress_bar=True, n_trials=10, n_jobs=6)"
   ]
  },
  {
   "cell_type": "code",
   "execution_count": 19,
   "id": "4de5e2fe",
   "metadata": {
    "scrolled": true
   },
   "outputs": [],
   "source": [
    "ensemble_params['catboost'] = study.best_params"
   ]
  },
  {
   "cell_type": "code",
   "execution_count": 20,
   "id": "ae4ecc3e",
   "metadata": {},
   "outputs": [],
   "source": [
    "save_file(train['params'], ensemble_params)"
   ]
  },
  {
   "cell_type": "markdown",
   "id": "2fd129ce",
   "metadata": {},
   "source": [
    "## XGboost"
   ]
  },
  {
   "cell_type": "code",
   "execution_count": 17,
   "id": "da748416",
   "metadata": {},
   "outputs": [],
   "source": [
    "def objective(trial: optuna.Trial, x: pd.DataFrame, y: pd.Series, **kwargs) -> float:\n",
    "    \"\"\"\n",
    "    This function defines the objective function for an Optuna study to tune hyperparameters\n",
    "    for a LightGBM binary classification model. \n",
    "\n",
    "    Args:\n",
    "        trial (optuna.Trial): A trial corresponding to a set of hyperparameters.\n",
    "        x (pd.DataFrame): The features to be used for training and validation.\n",
    "        y (pd.Series): The target variable for training and validation.\n",
    "\n",
    "    Returns:\n",
    "        float: The mean of the cross-validation AUC-ROC scores for the given set of hyperparameters.\n",
    "    \"\"\"\n",
    "    params = {\n",
    "        'n_estimators': trial.suggest_categorical('n_estimators', [1000]),\n",
    "#         'learning_rate': trial.suggest_float('learning_rate', 0.001, 1),\n",
    "        'learning_rate': trial.suggest_categorical('learning_rate', [0.21783913980394612]),\n",
    "        \"max_depth\": trial.suggest_int(\"max_depth\", 3, 10),\n",
    "        'max_bin': trial.suggest_int('max_bin', 0, 100),\n",
    "        \"gamma\": trial.suggest_int(\"gamma\", 0, 20),\n",
    "        \"min_child_weight\": trial.suggest_int(\"min_child_weight\", 2, 20),\n",
    "        \"reg_alpha\": trial.suggest_float(\"reg_alpha\", 1e-3, 1e2, log=True),\n",
    "        \"reg_lambda\": trial.suggest_float(\"reg_lambda\", 1e-3, 1e2, log=True),\n",
    "        \"subsample\": trial.suggest_float(\"subsample\", 0.5, 1.0),\n",
    "        \"colsample_bytree\": trial.suggest_float(\"colsample_bytree\", 0.5, 1.0),\n",
    "        \"colsample_bylevel\": trial.suggest_float(\"colsample_bylevel\", 0.5,1.0),\n",
    "        \"colsample_bynode\": trial.suggest_float(\"colsample_bynode\", 0.5, 1.0),\n",
    "        'random_state': train['random_state'],\n",
    "    }\n",
    "\n",
    "    cv_pred = np.empty(train['N_FOLDS'])\n",
    "    cv = StratifiedKFold(n_splits=train['N_FOLDS'], shuffle=True, random_state=train['random_state'])\n",
    "\n",
    "    for fold, (train_idx, test_idx) in enumerate(cv.split(x, y)):\n",
    "        x_train_, x_val_ = x.iloc[train_idx], x.iloc[test_idx]\n",
    "        y_train_, y_val_ = y.iloc[train_idx], y.iloc[test_idx]\n",
    "\n",
    "        ratio = y_train_[y_train_ == 0].shape[0] / \\\n",
    "            y_train_[y_train_ == 1].shape[0]\n",
    "        \n",
    "        pruning = optuna.integration.XGBoostPruningCallback(trial, 'validation_0-auc')\n",
    "\n",
    "        \n",
    "        model = XGBClassifier(\n",
    "            scale_pos_weight=ratio,\n",
    "            tree_method='hist',\n",
    "            enable_categorical=True,\n",
    "            verbosity=0,\n",
    "            n_jobs=-1,\n",
    "            **params\n",
    "        )\n",
    "        model.fit(x_train_, y_train_,\n",
    "                  eval_set=[(x_val_, y_val_)],\n",
    "                  early_stopping_rounds=100,\n",
    "                  eval_metric='auc',\n",
    "                  callbacks=[pruning], \n",
    "                  verbose=0)\n",
    "\n",
    "        \n",
    "        y_pred = model.predict(x_val_)\n",
    "        y_proba = model.predict_proba(x_val_)[:, 1]\n",
    "\n",
    "        cv_pred[fold] = roc_auc_score(y_val_, y_proba)\n",
    "        \n",
    "    return (np.mean(cv_pred))"
   ]
  },
  {
   "cell_type": "code",
   "execution_count": 18,
   "id": "8625df9c",
   "metadata": {
    "scrolled": true
   },
   "outputs": [
    {
     "name": "stderr",
     "output_type": "stream",
     "text": [
      "\u001b[32m[I 2023-04-15 11:48:06,008]\u001b[0m A new study created in memory with name: no-name-975d2bc5-34db-4261-9813-941468bd0f7f\u001b[0m\n"
     ]
    },
    {
     "data": {
      "application/vnd.jupyter.widget-view+json": {
       "model_id": "08ba1d990a6b4dc8b15fbb08f1b1be9d",
       "version_major": 2,
       "version_minor": 0
      },
      "text/plain": [
       "  0%|          | 0/20 [00:00<?, ?it/s]"
      ]
     },
     "metadata": {},
     "output_type": "display_data"
    },
    {
     "name": "stdout",
     "output_type": "stream",
     "text": [
      "\u001b[32m[I 2023-04-15 11:51:25,278]\u001b[0m Trial 3 finished with value: 0.8834798005032682 and parameters: {'n_estimators': 1000, 'learning_rate': 0.21783913980394612, 'max_depth': 8, 'max_bin': 53, 'gamma': 0, 'min_child_weight': 19, 'reg_alpha': 2.2690964684340553, 'reg_lambda': 0.006443915023953365, 'subsample': 0.8934072342383397, 'colsample_bytree': 0.8548968906017982, 'colsample_bylevel': 0.5876878665580205, 'colsample_bynode': 0.9643922141507364}. Best is trial 3 with value: 0.8834798005032682.\u001b[0m\n",
      "\u001b[32m[I 2023-04-15 11:53:27,200]\u001b[0m Trial 2 finished with value: 0.8810104464737272 and parameters: {'n_estimators': 1000, 'learning_rate': 0.21783913980394612, 'max_depth': 10, 'max_bin': 41, 'gamma': 18, 'min_child_weight': 20, 'reg_alpha': 7.027691563063873, 'reg_lambda': 0.647302864736654, 'subsample': 0.6664594762113506, 'colsample_bytree': 0.5857238651146067, 'colsample_bylevel': 0.586925528195432, 'colsample_bynode': 0.5429006751595139}. Best is trial 3 with value: 0.8834798005032682.\u001b[0m\n",
      "\u001b[32m[I 2023-04-15 11:53:35,311]\u001b[0m Trial 4 finished with value: 0.8815412474331956 and parameters: {'n_estimators': 1000, 'learning_rate': 0.21783913980394612, 'max_depth': 6, 'max_bin': 19, 'gamma': 19, 'min_child_weight': 20, 'reg_alpha': 11.18141332159897, 'reg_lambda': 0.01848136324031024, 'subsample': 0.674136517606496, 'colsample_bytree': 0.8939742767561154, 'colsample_bylevel': 0.7074641828279706, 'colsample_bynode': 0.8868394244755273}. Best is trial 3 with value: 0.8834798005032682.\u001b[0m\n",
      "\u001b[32m[I 2023-04-15 11:55:39,304]\u001b[0m Trial 0 finished with value: 0.8809174460314342 and parameters: {'n_estimators': 1000, 'learning_rate': 0.21783913980394612, 'max_depth': 10, 'max_bin': 22, 'gamma': 3, 'min_child_weight': 19, 'reg_alpha': 28.222227170357716, 'reg_lambda': 0.056277359570809, 'subsample': 0.8401149391552842, 'colsample_bytree': 0.9799990794653083, 'colsample_bylevel': 0.6706640711856131, 'colsample_bynode': 0.7968925246973715}. Best is trial 3 with value: 0.8834798005032682.\u001b[0m\n",
      "\u001b[32m[I 2023-04-15 11:55:54,440]\u001b[0m Trial 1 finished with value: 0.8855789560459482 and parameters: {'n_estimators': 1000, 'learning_rate': 0.21783913980394612, 'max_depth': 7, 'max_bin': 96, 'gamma': 9, 'min_child_weight': 9, 'reg_alpha': 7.174964983683693, 'reg_lambda': 66.57659054815768, 'subsample': 0.8042244961047664, 'colsample_bytree': 0.5014392101489942, 'colsample_bylevel': 0.7031690928300769, 'colsample_bynode': 0.9604665947830142}. Best is trial 1 with value: 0.8855789560459482.\u001b[0m\n",
      "\u001b[32m[I 2023-04-15 11:55:55,824]\u001b[0m Trial 10 pruned. Trial was pruned at iteration 0.\u001b[0m\n",
      "\u001b[32m[I 2023-04-15 11:55:57,305]\u001b[0m Trial 11 pruned. Trial was pruned at iteration 0.\u001b[0m\n",
      "\u001b[32m[I 2023-04-15 11:56:02,331]\u001b[0m Trial 5 pruned. Trial was pruned at iteration 711.\u001b[0m\n",
      "\u001b[32m[I 2023-04-15 11:56:26,264]\u001b[0m Trial 8 finished with value: 0.8859434162426393 and parameters: {'n_estimators': 1000, 'learning_rate': 0.21783913980394612, 'max_depth': 5, 'max_bin': 27, 'gamma': 14, 'min_child_weight': 10, 'reg_alpha': 0.11022195385048136, 'reg_lambda': 3.23081573614915, 'subsample': 0.9679887283295731, 'colsample_bytree': 0.7817746111387165, 'colsample_bylevel': 0.7196981862342314, 'colsample_bynode': 0.5874277820910605}. Best is trial 8 with value: 0.8859434162426393.\u001b[0m\n",
      "\u001b[32m[I 2023-04-15 11:56:27,818]\u001b[0m Trial 14 pruned. Trial was pruned at iteration 0.\u001b[0m\n",
      "\u001b[32m[I 2023-04-15 11:56:29,469]\u001b[0m Trial 15 pruned. Trial was pruned at iteration 0.\u001b[0m\n",
      "\u001b[32m[I 2023-04-15 11:56:31,723]\u001b[0m Trial 16 pruned. Trial was pruned at iteration 0.\u001b[0m\n",
      "\u001b[32m[I 2023-04-15 11:56:33,521]\u001b[0m Trial 17 pruned. Trial was pruned at iteration 0.\u001b[0m\n",
      "\u001b[32m[I 2023-04-15 11:56:35,183]\u001b[0m Trial 18 pruned. Trial was pruned at iteration 0.\u001b[0m\n",
      "\u001b[32m[I 2023-04-15 11:56:36,727]\u001b[0m Trial 19 pruned. Trial was pruned at iteration 0.\u001b[0m\n",
      "\u001b[32m[I 2023-04-15 11:59:09,859]\u001b[0m Trial 13 finished with value: 0.8832236769160959 and parameters: {'n_estimators': 1000, 'learning_rate': 0.21783913980394612, 'max_depth': 7, 'max_bin': 40, 'gamma': 11, 'min_child_weight': 13, 'reg_alpha': 0.003543971390059138, 'reg_lambda': 16.787913531768336, 'subsample': 0.626145952875818, 'colsample_bytree': 0.8448664698277302, 'colsample_bylevel': 0.5037816534953333, 'colsample_bynode': 0.977430475111067}. Best is trial 8 with value: 0.8859434162426393.\u001b[0m\n",
      "\u001b[32m[I 2023-04-15 12:00:32,584]\u001b[0m Trial 12 finished with value: 0.8849444110232729 and parameters: {'n_estimators': 1000, 'learning_rate': 0.21783913980394612, 'max_depth': 9, 'max_bin': 29, 'gamma': 12, 'min_child_weight': 11, 'reg_alpha': 0.0013192271795435856, 'reg_lambda': 0.005545236559032906, 'subsample': 0.8129976385194133, 'colsample_bytree': 0.8598107707038318, 'colsample_bylevel': 0.9932644504654116, 'colsample_bynode': 0.5887645971341393}. Best is trial 8 with value: 0.8859434162426393.\u001b[0m\n",
      "\u001b[32m[I 2023-04-15 12:00:39,346]\u001b[0m Trial 7 finished with value: 0.8849216449596992 and parameters: {'n_estimators': 1000, 'learning_rate': 0.21783913980394612, 'max_depth': 7, 'max_bin': 99, 'gamma': 8, 'min_child_weight': 16, 'reg_alpha': 0.003580217387058274, 'reg_lambda': 0.0015914675358214825, 'subsample': 0.973357934749053, 'colsample_bytree': 0.6579043162360089, 'colsample_bylevel': 0.8729075549107475, 'colsample_bynode': 0.9379671468644505}. Best is trial 8 with value: 0.8859434162426393.\u001b[0m\n",
      "\u001b[32m[I 2023-04-15 12:00:46,199]\u001b[0m Trial 6 finished with value: 0.8881461766127239 and parameters: {'n_estimators': 1000, 'learning_rate': 0.21783913980394612, 'max_depth': 7, 'max_bin': 53, 'gamma': 15, 'min_child_weight': 4, 'reg_alpha': 0.7881275815966287, 'reg_lambda': 0.0010716391836840086, 'subsample': 0.8021999496207227, 'colsample_bytree': 0.5522860461284204, 'colsample_bylevel': 0.6436393605020282, 'colsample_bynode': 0.8621805404963458}. Best is trial 6 with value: 0.8881461766127239.\u001b[0m\n",
      "\u001b[32m[I 2023-04-15 12:00:46,288]\u001b[0m Trial 9 pruned. Trial was pruned at iteration 0.\u001b[0m\n"
     ]
    }
   ],
   "source": [
    "func = lambda trial: objective(trial, X, Y)\n",
    "\n",
    "study = optuna.create_study(direction=\"maximize\")\n",
    "study.optimize(func, show_progress_bar=True, n_trials=20, n_jobs=6)"
   ]
  },
  {
   "cell_type": "code",
   "execution_count": 19,
   "id": "c9cb83d4",
   "metadata": {},
   "outputs": [],
   "source": [
    "ensemble_params['xgboost'] = study.best_params"
   ]
  },
  {
   "cell_type": "code",
   "execution_count": 31,
   "id": "0571708f",
   "metadata": {},
   "outputs": [],
   "source": [
    "save_file(train['params'], ensemble_params)"
   ]
  },
  {
   "cell_type": "markdown",
   "id": "5341d131",
   "metadata": {},
   "source": [
    "# Train on best params"
   ]
  },
  {
   "cell_type": "code",
   "execution_count": 78,
   "id": "27c6bf25",
   "metadata": {},
   "outputs": [],
   "source": [
    "models = {}"
   ]
  },
  {
   "cell_type": "code",
   "execution_count": 79,
   "id": "51b00274",
   "metadata": {},
   "outputs": [],
   "source": [
    "metrics = pd.DataFrame()"
   ]
  },
  {
   "cell_type": "markdown",
   "id": "dba22dcb",
   "metadata": {},
   "source": [
    "## Catboost"
   ]
  },
  {
   "cell_type": "code",
   "execution_count": 80,
   "id": "f8af0c96",
   "metadata": {},
   "outputs": [],
   "source": [
    "params = ensemble_params['catboost']"
   ]
  },
  {
   "cell_type": "code",
   "execution_count": 81,
   "id": "5662a590",
   "metadata": {},
   "outputs": [],
   "source": [
    "ratio = y_test[y_test == 0].shape[0] / y_test[y_test == 1].shape[0]"
   ]
  },
  {
   "cell_type": "code",
   "execution_count": 82,
   "id": "15db75db",
   "metadata": {},
   "outputs": [
    {
     "data": {
      "text/plain": [
       "<catboost.core.CatBoostClassifier at 0x7f2500703c70>"
      ]
     },
     "execution_count": 82,
     "metadata": {},
     "output_type": "execute_result"
    }
   ],
   "source": [
    "model = CatBoostClassifier(scale_pos_weight=ratio,\n",
    "                           cat_features=train['cat_features'],\n",
    "                           **params)\n",
    "\n",
    "model.fit(X, Y, verbose=0)"
   ]
  },
  {
   "cell_type": "code",
   "execution_count": 83,
   "id": "24cb89b4",
   "metadata": {},
   "outputs": [],
   "source": [
    "y_pred = model.predict(X)\n",
    "y_score = model.predict_proba(X)\n",
    "\n",
    "metrics = pd.concat([metrics, get_metrics(Y, y_pred, y_score, \n",
    "                                          'Catboost_train')])\n",
    "\n",
    "predictions_train = y_score[:,1]"
   ]
  },
  {
   "cell_type": "code",
   "execution_count": 84,
   "id": "636dc56c",
   "metadata": {},
   "outputs": [],
   "source": [
    "y_pred = model.predict(x_test)\n",
    "y_score = model.predict_proba(x_test)\n",
    "\n",
    "metrics = pd.concat([metrics, get_metrics(y_test, y_pred, y_score, \n",
    "                                          'Catboost_test')])\n",
    "\n",
    "predictions_test = y_score[:,1]"
   ]
  },
  {
   "cell_type": "code",
   "execution_count": 85,
   "id": "a94af55b",
   "metadata": {
    "scrolled": false
   },
   "outputs": [
    {
     "data": {
      "text/html": [
       "<div>\n",
       "<style scoped>\n",
       "    .dataframe tbody tr th:only-of-type {\n",
       "        vertical-align: middle;\n",
       "    }\n",
       "\n",
       "    .dataframe tbody tr th {\n",
       "        vertical-align: top;\n",
       "    }\n",
       "\n",
       "    .dataframe thead th {\n",
       "        text-align: right;\n",
       "    }\n",
       "</style>\n",
       "<table border=\"1\" class=\"dataframe\">\n",
       "  <thead>\n",
       "    <tr style=\"text-align: right;\">\n",
       "      <th></th>\n",
       "      <th>model</th>\n",
       "      <th>Accuracy</th>\n",
       "      <th>ROC_AUC</th>\n",
       "      <th>Precision</th>\n",
       "      <th>Recall</th>\n",
       "      <th>f1</th>\n",
       "      <th>Logloss</th>\n",
       "    </tr>\n",
       "  </thead>\n",
       "  <tbody>\n",
       "    <tr>\n",
       "      <th>0</th>\n",
       "      <td>Catboost_train</td>\n",
       "      <td>0.872004</td>\n",
       "      <td>0.933844</td>\n",
       "      <td>0.851423</td>\n",
       "      <td>0.763416</td>\n",
       "      <td>0.805021</td>\n",
       "      <td>0.311773</td>\n",
       "    </tr>\n",
       "    <tr>\n",
       "      <th>0</th>\n",
       "      <td>Catboost_test</td>\n",
       "      <td>0.651094</td>\n",
       "      <td>0.797918</td>\n",
       "      <td>0.497188</td>\n",
       "      <td>0.864174</td>\n",
       "      <td>0.631216</td>\n",
       "      <td>1.376570</td>\n",
       "    </tr>\n",
       "  </tbody>\n",
       "</table>\n",
       "</div>"
      ],
      "text/plain": [
       "            model  Accuracy   ROC_AUC  Precision    Recall        f1   Logloss\n",
       "0  Catboost_train  0.872004  0.933844   0.851423  0.763416  0.805021  0.311773\n",
       "0   Catboost_test  0.651094  0.797918   0.497188  0.864174  0.631216  1.376570"
      ]
     },
     "execution_count": 85,
     "metadata": {},
     "output_type": "execute_result"
    }
   ],
   "source": [
    "metrics"
   ]
  },
  {
   "cell_type": "code",
   "execution_count": 86,
   "id": "eb7c2bcb",
   "metadata": {},
   "outputs": [],
   "source": [
    "win_predictor_metrics['best_metrics']['catboost'] = get_metrics_in_dict(\n",
    "    y_test, y_pred, y_score)"
   ]
  },
  {
   "cell_type": "code",
   "execution_count": 37,
   "id": "7e69d435",
   "metadata": {},
   "outputs": [],
   "source": [
    "models['catboost'] = model"
   ]
  },
  {
   "cell_type": "markdown",
   "id": "fa0272f4",
   "metadata": {},
   "source": [
    "## XGboost"
   ]
  },
  {
   "cell_type": "code",
   "execution_count": 87,
   "id": "5e802d12",
   "metadata": {},
   "outputs": [],
   "source": [
    "params = ensemble_params['xgboost']"
   ]
  },
  {
   "cell_type": "code",
   "execution_count": 88,
   "id": "0db84044",
   "metadata": {
    "scrolled": false
   },
   "outputs": [
    {
     "data": {
      "text/html": [
       "<style>#sk-container-id-5 {color: black;background-color: white;}#sk-container-id-5 pre{padding: 0;}#sk-container-id-5 div.sk-toggleable {background-color: white;}#sk-container-id-5 label.sk-toggleable__label {cursor: pointer;display: block;width: 100%;margin-bottom: 0;padding: 0.3em;box-sizing: border-box;text-align: center;}#sk-container-id-5 label.sk-toggleable__label-arrow:before {content: \"▸\";float: left;margin-right: 0.25em;color: #696969;}#sk-container-id-5 label.sk-toggleable__label-arrow:hover:before {color: black;}#sk-container-id-5 div.sk-estimator:hover label.sk-toggleable__label-arrow:before {color: black;}#sk-container-id-5 div.sk-toggleable__content {max-height: 0;max-width: 0;overflow: hidden;text-align: left;background-color: #f0f8ff;}#sk-container-id-5 div.sk-toggleable__content pre {margin: 0.2em;color: black;border-radius: 0.25em;background-color: #f0f8ff;}#sk-container-id-5 input.sk-toggleable__control:checked~div.sk-toggleable__content {max-height: 200px;max-width: 100%;overflow: auto;}#sk-container-id-5 input.sk-toggleable__control:checked~label.sk-toggleable__label-arrow:before {content: \"▾\";}#sk-container-id-5 div.sk-estimator input.sk-toggleable__control:checked~label.sk-toggleable__label {background-color: #d4ebff;}#sk-container-id-5 div.sk-label input.sk-toggleable__control:checked~label.sk-toggleable__label {background-color: #d4ebff;}#sk-container-id-5 input.sk-hidden--visually {border: 0;clip: rect(1px 1px 1px 1px);clip: rect(1px, 1px, 1px, 1px);height: 1px;margin: -1px;overflow: hidden;padding: 0;position: absolute;width: 1px;}#sk-container-id-5 div.sk-estimator {font-family: monospace;background-color: #f0f8ff;border: 1px dotted black;border-radius: 0.25em;box-sizing: border-box;margin-bottom: 0.5em;}#sk-container-id-5 div.sk-estimator:hover {background-color: #d4ebff;}#sk-container-id-5 div.sk-parallel-item::after {content: \"\";width: 100%;border-bottom: 1px solid gray;flex-grow: 1;}#sk-container-id-5 div.sk-label:hover label.sk-toggleable__label {background-color: #d4ebff;}#sk-container-id-5 div.sk-serial::before {content: \"\";position: absolute;border-left: 1px solid gray;box-sizing: border-box;top: 0;bottom: 0;left: 50%;z-index: 0;}#sk-container-id-5 div.sk-serial {display: flex;flex-direction: column;align-items: center;background-color: white;padding-right: 0.2em;padding-left: 0.2em;position: relative;}#sk-container-id-5 div.sk-item {position: relative;z-index: 1;}#sk-container-id-5 div.sk-parallel {display: flex;align-items: stretch;justify-content: center;background-color: white;position: relative;}#sk-container-id-5 div.sk-item::before, #sk-container-id-5 div.sk-parallel-item::before {content: \"\";position: absolute;border-left: 1px solid gray;box-sizing: border-box;top: 0;bottom: 0;left: 50%;z-index: -1;}#sk-container-id-5 div.sk-parallel-item {display: flex;flex-direction: column;z-index: 1;position: relative;background-color: white;}#sk-container-id-5 div.sk-parallel-item:first-child::after {align-self: flex-end;width: 50%;}#sk-container-id-5 div.sk-parallel-item:last-child::after {align-self: flex-start;width: 50%;}#sk-container-id-5 div.sk-parallel-item:only-child::after {width: 0;}#sk-container-id-5 div.sk-dashed-wrapped {border: 1px dashed gray;margin: 0 0.4em 0.5em 0.4em;box-sizing: border-box;padding-bottom: 0.4em;background-color: white;}#sk-container-id-5 div.sk-label label {font-family: monospace;font-weight: bold;display: inline-block;line-height: 1.2em;}#sk-container-id-5 div.sk-label-container {text-align: center;}#sk-container-id-5 div.sk-container {/* jupyter's `normalize.less` sets `[hidden] { display: none; }` but bootstrap.min.css set `[hidden] { display: none !important; }` so we also need the `!important` here to be able to override the default hidden behavior on the sphinx rendered scikit-learn.org. See: https://github.com/scikit-learn/scikit-learn/issues/21755 */display: inline-block !important;position: relative;}#sk-container-id-5 div.sk-text-repr-fallback {display: none;}</style><div id=\"sk-container-id-5\" class=\"sk-top-container\"><div class=\"sk-text-repr-fallback\"><pre>XGBClassifier(base_score=None, booster=None, callbacks=None,\n",
       "              colsample_bylevel=0.9374327913713476,\n",
       "              colsample_bynode=0.7539564372637708,\n",
       "              colsample_bytree=0.5157150597834432, early_stopping_rounds=None,\n",
       "              enable_categorical=True, eval_metric=None, feature_types=None,\n",
       "              gamma=7, gpu_id=None, grow_policy=None, importance_type=None,\n",
       "              interaction_constraints=None, learning_rate=0.21783913980394612,\n",
       "              max_bin=None, max_cat_threshold=None, max_cat_to_onehot=None,\n",
       "              max_delta_step=None, max_depth=4, max_leaves=None,\n",
       "              min_child_weight=2, missing=nan, monotone_constraints=None,\n",
       "              n_estimators=1000, n_jobs=-1, num_parallel_tree=None,\n",
       "              predictor=None, random_state=None, ...)</pre><b>In a Jupyter environment, please rerun this cell to show the HTML representation or trust the notebook. <br />On GitHub, the HTML representation is unable to render, please try loading this page with nbviewer.org.</b></div><div class=\"sk-container\" hidden><div class=\"sk-item\"><div class=\"sk-estimator sk-toggleable\"><input class=\"sk-toggleable__control sk-hidden--visually\" id=\"sk-estimator-id-5\" type=\"checkbox\" checked><label for=\"sk-estimator-id-5\" class=\"sk-toggleable__label sk-toggleable__label-arrow\">XGBClassifier</label><div class=\"sk-toggleable__content\"><pre>XGBClassifier(base_score=None, booster=None, callbacks=None,\n",
       "              colsample_bylevel=0.9374327913713476,\n",
       "              colsample_bynode=0.7539564372637708,\n",
       "              colsample_bytree=0.5157150597834432, early_stopping_rounds=None,\n",
       "              enable_categorical=True, eval_metric=None, feature_types=None,\n",
       "              gamma=7, gpu_id=None, grow_policy=None, importance_type=None,\n",
       "              interaction_constraints=None, learning_rate=0.21783913980394612,\n",
       "              max_bin=None, max_cat_threshold=None, max_cat_to_onehot=None,\n",
       "              max_delta_step=None, max_depth=4, max_leaves=None,\n",
       "              min_child_weight=2, missing=nan, monotone_constraints=None,\n",
       "              n_estimators=1000, n_jobs=-1, num_parallel_tree=None,\n",
       "              predictor=None, random_state=None, ...)</pre></div></div></div></div></div>"
      ],
      "text/plain": [
       "XGBClassifier(base_score=None, booster=None, callbacks=None,\n",
       "              colsample_bylevel=0.9374327913713476,\n",
       "              colsample_bynode=0.7539564372637708,\n",
       "              colsample_bytree=0.5157150597834432, early_stopping_rounds=None,\n",
       "              enable_categorical=True, eval_metric=None, feature_types=None,\n",
       "              gamma=7, gpu_id=None, grow_policy=None, importance_type=None,\n",
       "              interaction_constraints=None, learning_rate=0.21783913980394612,\n",
       "              max_bin=None, max_cat_threshold=None, max_cat_to_onehot=None,\n",
       "              max_delta_step=None, max_depth=4, max_leaves=None,\n",
       "              min_child_weight=2, missing=nan, monotone_constraints=None,\n",
       "              n_estimators=1000, n_jobs=-1, num_parallel_tree=None,\n",
       "              predictor=None, random_state=None, ...)"
      ]
     },
     "execution_count": 88,
     "metadata": {},
     "output_type": "execute_result"
    }
   ],
   "source": [
    "model = XGBClassifier(scale_pos_weight=ratio, \n",
    "                      tree_method='hist',\n",
    "                      enable_categorical=True,\n",
    "                      n_jobs=-1,\n",
    "                      **params)\n",
    "\n",
    "model.fit(X, Y, verbose=0)"
   ]
  },
  {
   "cell_type": "code",
   "execution_count": 89,
   "id": "a15a1736",
   "metadata": {},
   "outputs": [],
   "source": [
    "y_pred = model.predict(X)\n",
    "y_score = model.predict_proba(X)\n",
    "\n",
    "metrics = pd.concat([metrics, get_metrics(Y, y_pred, y_score, \n",
    "                                          'XGboost_train')])\n",
    "\n",
    "predictions_train = np.vstack((predictions_train, y_score[:, 1]))"
   ]
  },
  {
   "cell_type": "code",
   "execution_count": 90,
   "id": "99b66ee9",
   "metadata": {},
   "outputs": [],
   "source": [
    "y_pred = model.predict(x_test)\n",
    "y_score = model.predict_proba(x_test)\n",
    "\n",
    "metrics = pd.concat([metrics, get_metrics(y_test, y_pred, y_score, \n",
    "                                          'XGboost_test')])\n",
    "\n",
    "predictions_test = np.vstack((predictions_test, y_score[:, 1]))"
   ]
  },
  {
   "cell_type": "code",
   "execution_count": 91,
   "id": "ee8fe27b",
   "metadata": {},
   "outputs": [
    {
     "data": {
      "text/html": [
       "<div>\n",
       "<style scoped>\n",
       "    .dataframe tbody tr th:only-of-type {\n",
       "        vertical-align: middle;\n",
       "    }\n",
       "\n",
       "    .dataframe tbody tr th {\n",
       "        vertical-align: top;\n",
       "    }\n",
       "\n",
       "    .dataframe thead th {\n",
       "        text-align: right;\n",
       "    }\n",
       "</style>\n",
       "<table border=\"1\" class=\"dataframe\">\n",
       "  <thead>\n",
       "    <tr style=\"text-align: right;\">\n",
       "      <th></th>\n",
       "      <th>model</th>\n",
       "      <th>Accuracy</th>\n",
       "      <th>ROC_AUC</th>\n",
       "      <th>Precision</th>\n",
       "      <th>Recall</th>\n",
       "      <th>f1</th>\n",
       "      <th>Logloss</th>\n",
       "    </tr>\n",
       "  </thead>\n",
       "  <tbody>\n",
       "    <tr>\n",
       "      <th>0</th>\n",
       "      <td>Catboost_train</td>\n",
       "      <td>0.872004</td>\n",
       "      <td>0.933844</td>\n",
       "      <td>0.851423</td>\n",
       "      <td>0.763416</td>\n",
       "      <td>0.805021</td>\n",
       "      <td>0.311773</td>\n",
       "    </tr>\n",
       "    <tr>\n",
       "      <th>0</th>\n",
       "      <td>Catboost_test</td>\n",
       "      <td>0.651094</td>\n",
       "      <td>0.797918</td>\n",
       "      <td>0.497188</td>\n",
       "      <td>0.864174</td>\n",
       "      <td>0.631216</td>\n",
       "      <td>1.376570</td>\n",
       "    </tr>\n",
       "    <tr>\n",
       "      <th>0</th>\n",
       "      <td>XGboost_train</td>\n",
       "      <td>0.856609</td>\n",
       "      <td>0.911035</td>\n",
       "      <td>0.817549</td>\n",
       "      <td>0.753981</td>\n",
       "      <td>0.784479</td>\n",
       "      <td>0.344465</td>\n",
       "    </tr>\n",
       "    <tr>\n",
       "      <th>0</th>\n",
       "      <td>XGboost_test</td>\n",
       "      <td>0.633444</td>\n",
       "      <td>0.785830</td>\n",
       "      <td>0.483067</td>\n",
       "      <td>0.868112</td>\n",
       "      <td>0.620727</td>\n",
       "      <td>1.270424</td>\n",
       "    </tr>\n",
       "  </tbody>\n",
       "</table>\n",
       "</div>"
      ],
      "text/plain": [
       "            model  Accuracy   ROC_AUC  Precision    Recall        f1   Logloss\n",
       "0  Catboost_train  0.872004  0.933844   0.851423  0.763416  0.805021  0.311773\n",
       "0   Catboost_test  0.651094  0.797918   0.497188  0.864174  0.631216  1.376570\n",
       "0   XGboost_train  0.856609  0.911035   0.817549  0.753981  0.784479  0.344465\n",
       "0    XGboost_test  0.633444  0.785830   0.483067  0.868112  0.620727  1.270424"
      ]
     },
     "execution_count": 91,
     "metadata": {},
     "output_type": "execute_result"
    }
   ],
   "source": [
    "metrics"
   ]
  },
  {
   "cell_type": "code",
   "execution_count": 92,
   "id": "451ab7ce",
   "metadata": {},
   "outputs": [],
   "source": [
    "win_predictor_metrics['best_metrics']['xgboost'] = get_metrics_in_dict(\n",
    "    y_test, y_pred, y_score)"
   ]
  },
  {
   "cell_type": "code",
   "execution_count": 43,
   "id": "01344391",
   "metadata": {},
   "outputs": [],
   "source": [
    "models['xgboost'] = model"
   ]
  },
  {
   "cell_type": "markdown",
   "id": "bfbfc0c6",
   "metadata": {},
   "source": [
    "## Stacking"
   ]
  },
  {
   "cell_type": "code",
   "execution_count": 93,
   "id": "0405b795",
   "metadata": {},
   "outputs": [
    {
     "data": {
      "text/html": [
       "<style>#sk-container-id-6 {color: black;background-color: white;}#sk-container-id-6 pre{padding: 0;}#sk-container-id-6 div.sk-toggleable {background-color: white;}#sk-container-id-6 label.sk-toggleable__label {cursor: pointer;display: block;width: 100%;margin-bottom: 0;padding: 0.3em;box-sizing: border-box;text-align: center;}#sk-container-id-6 label.sk-toggleable__label-arrow:before {content: \"▸\";float: left;margin-right: 0.25em;color: #696969;}#sk-container-id-6 label.sk-toggleable__label-arrow:hover:before {color: black;}#sk-container-id-6 div.sk-estimator:hover label.sk-toggleable__label-arrow:before {color: black;}#sk-container-id-6 div.sk-toggleable__content {max-height: 0;max-width: 0;overflow: hidden;text-align: left;background-color: #f0f8ff;}#sk-container-id-6 div.sk-toggleable__content pre {margin: 0.2em;color: black;border-radius: 0.25em;background-color: #f0f8ff;}#sk-container-id-6 input.sk-toggleable__control:checked~div.sk-toggleable__content {max-height: 200px;max-width: 100%;overflow: auto;}#sk-container-id-6 input.sk-toggleable__control:checked~label.sk-toggleable__label-arrow:before {content: \"▾\";}#sk-container-id-6 div.sk-estimator input.sk-toggleable__control:checked~label.sk-toggleable__label {background-color: #d4ebff;}#sk-container-id-6 div.sk-label input.sk-toggleable__control:checked~label.sk-toggleable__label {background-color: #d4ebff;}#sk-container-id-6 input.sk-hidden--visually {border: 0;clip: rect(1px 1px 1px 1px);clip: rect(1px, 1px, 1px, 1px);height: 1px;margin: -1px;overflow: hidden;padding: 0;position: absolute;width: 1px;}#sk-container-id-6 div.sk-estimator {font-family: monospace;background-color: #f0f8ff;border: 1px dotted black;border-radius: 0.25em;box-sizing: border-box;margin-bottom: 0.5em;}#sk-container-id-6 div.sk-estimator:hover {background-color: #d4ebff;}#sk-container-id-6 div.sk-parallel-item::after {content: \"\";width: 100%;border-bottom: 1px solid gray;flex-grow: 1;}#sk-container-id-6 div.sk-label:hover label.sk-toggleable__label {background-color: #d4ebff;}#sk-container-id-6 div.sk-serial::before {content: \"\";position: absolute;border-left: 1px solid gray;box-sizing: border-box;top: 0;bottom: 0;left: 50%;z-index: 0;}#sk-container-id-6 div.sk-serial {display: flex;flex-direction: column;align-items: center;background-color: white;padding-right: 0.2em;padding-left: 0.2em;position: relative;}#sk-container-id-6 div.sk-item {position: relative;z-index: 1;}#sk-container-id-6 div.sk-parallel {display: flex;align-items: stretch;justify-content: center;background-color: white;position: relative;}#sk-container-id-6 div.sk-item::before, #sk-container-id-6 div.sk-parallel-item::before {content: \"\";position: absolute;border-left: 1px solid gray;box-sizing: border-box;top: 0;bottom: 0;left: 50%;z-index: -1;}#sk-container-id-6 div.sk-parallel-item {display: flex;flex-direction: column;z-index: 1;position: relative;background-color: white;}#sk-container-id-6 div.sk-parallel-item:first-child::after {align-self: flex-end;width: 50%;}#sk-container-id-6 div.sk-parallel-item:last-child::after {align-self: flex-start;width: 50%;}#sk-container-id-6 div.sk-parallel-item:only-child::after {width: 0;}#sk-container-id-6 div.sk-dashed-wrapped {border: 1px dashed gray;margin: 0 0.4em 0.5em 0.4em;box-sizing: border-box;padding-bottom: 0.4em;background-color: white;}#sk-container-id-6 div.sk-label label {font-family: monospace;font-weight: bold;display: inline-block;line-height: 1.2em;}#sk-container-id-6 div.sk-label-container {text-align: center;}#sk-container-id-6 div.sk-container {/* jupyter's `normalize.less` sets `[hidden] { display: none; }` but bootstrap.min.css set `[hidden] { display: none !important; }` so we also need the `!important` here to be able to override the default hidden behavior on the sphinx rendered scikit-learn.org. See: https://github.com/scikit-learn/scikit-learn/issues/21755 */display: inline-block !important;position: relative;}#sk-container-id-6 div.sk-text-repr-fallback {display: none;}</style><div id=\"sk-container-id-6\" class=\"sk-top-container\"><div class=\"sk-text-repr-fallback\"><pre>GaussianNB()</pre><b>In a Jupyter environment, please rerun this cell to show the HTML representation or trust the notebook. <br />On GitHub, the HTML representation is unable to render, please try loading this page with nbviewer.org.</b></div><div class=\"sk-container\" hidden><div class=\"sk-item\"><div class=\"sk-estimator sk-toggleable\"><input class=\"sk-toggleable__control sk-hidden--visually\" id=\"sk-estimator-id-6\" type=\"checkbox\" checked><label for=\"sk-estimator-id-6\" class=\"sk-toggleable__label sk-toggleable__label-arrow\">GaussianNB</label><div class=\"sk-toggleable__content\"><pre>GaussianNB()</pre></div></div></div></div></div>"
      ],
      "text/plain": [
       "GaussianNB()"
      ]
     },
     "execution_count": 93,
     "metadata": {},
     "output_type": "execute_result"
    }
   ],
   "source": [
    "model = GaussianNB()\n",
    "model.fit(predictions_train.T, Y)"
   ]
  },
  {
   "cell_type": "code",
   "execution_count": 94,
   "id": "dbacf5c5",
   "metadata": {},
   "outputs": [],
   "source": [
    "y_pred = model.predict(predictions_train.T)\n",
    "y_score = model.predict_proba(predictions_train.T)\n",
    "\n",
    "metrics = pd.concat([metrics, get_metrics(Y, y_pred, y_score, \n",
    "                                          'Ensemble_train')])"
   ]
  },
  {
   "cell_type": "code",
   "execution_count": 95,
   "id": "ee73bfc3",
   "metadata": {},
   "outputs": [],
   "source": [
    "y_pred = model.predict(predictions_test.T)\n",
    "y_score = model.predict_proba(predictions_test.T)\n",
    "\n",
    "metrics = pd.concat([metrics, get_metrics(y_test, y_pred, y_score, \n",
    "                                          'Ensemble_test')])"
   ]
  },
  {
   "cell_type": "code",
   "execution_count": 96,
   "id": "06396514",
   "metadata": {
    "scrolled": false
   },
   "outputs": [
    {
     "data": {
      "text/html": [
       "<div>\n",
       "<style scoped>\n",
       "    .dataframe tbody tr th:only-of-type {\n",
       "        vertical-align: middle;\n",
       "    }\n",
       "\n",
       "    .dataframe tbody tr th {\n",
       "        vertical-align: top;\n",
       "    }\n",
       "\n",
       "    .dataframe thead th {\n",
       "        text-align: right;\n",
       "    }\n",
       "</style>\n",
       "<table border=\"1\" class=\"dataframe\">\n",
       "  <thead>\n",
       "    <tr style=\"text-align: right;\">\n",
       "      <th></th>\n",
       "      <th>model</th>\n",
       "      <th>Accuracy</th>\n",
       "      <th>ROC_AUC</th>\n",
       "      <th>Precision</th>\n",
       "      <th>Recall</th>\n",
       "      <th>f1</th>\n",
       "      <th>Logloss</th>\n",
       "    </tr>\n",
       "  </thead>\n",
       "  <tbody>\n",
       "    <tr>\n",
       "      <th>0</th>\n",
       "      <td>Catboost_train</td>\n",
       "      <td>0.872004</td>\n",
       "      <td>0.933844</td>\n",
       "      <td>0.851423</td>\n",
       "      <td>0.763416</td>\n",
       "      <td>0.805021</td>\n",
       "      <td>0.311773</td>\n",
       "    </tr>\n",
       "    <tr>\n",
       "      <th>0</th>\n",
       "      <td>Catboost_test</td>\n",
       "      <td>0.651094</td>\n",
       "      <td>0.797918</td>\n",
       "      <td>0.497188</td>\n",
       "      <td>0.864174</td>\n",
       "      <td>0.631216</td>\n",
       "      <td>1.376570</td>\n",
       "    </tr>\n",
       "    <tr>\n",
       "      <th>0</th>\n",
       "      <td>XGboost_train</td>\n",
       "      <td>0.856609</td>\n",
       "      <td>0.911035</td>\n",
       "      <td>0.817549</td>\n",
       "      <td>0.753981</td>\n",
       "      <td>0.784479</td>\n",
       "      <td>0.344465</td>\n",
       "    </tr>\n",
       "    <tr>\n",
       "      <th>0</th>\n",
       "      <td>XGboost_test</td>\n",
       "      <td>0.633444</td>\n",
       "      <td>0.785830</td>\n",
       "      <td>0.483067</td>\n",
       "      <td>0.868112</td>\n",
       "      <td>0.620727</td>\n",
       "      <td>1.270424</td>\n",
       "    </tr>\n",
       "    <tr>\n",
       "      <th>0</th>\n",
       "      <td>Ensemble_train</td>\n",
       "      <td>0.867511</td>\n",
       "      <td>0.928073</td>\n",
       "      <td>0.843632</td>\n",
       "      <td>0.757645</td>\n",
       "      <td>0.798330</td>\n",
       "      <td>0.544029</td>\n",
       "    </tr>\n",
       "    <tr>\n",
       "      <th>0</th>\n",
       "      <td>Ensemble_test</td>\n",
       "      <td>0.643313</td>\n",
       "      <td>0.799288</td>\n",
       "      <td>0.490877</td>\n",
       "      <td>0.868820</td>\n",
       "      <td>0.627322</td>\n",
       "      <td>2.918712</td>\n",
       "    </tr>\n",
       "  </tbody>\n",
       "</table>\n",
       "</div>"
      ],
      "text/plain": [
       "            model  Accuracy   ROC_AUC  Precision    Recall        f1   Logloss\n",
       "0  Catboost_train  0.872004  0.933844   0.851423  0.763416  0.805021  0.311773\n",
       "0   Catboost_test  0.651094  0.797918   0.497188  0.864174  0.631216  1.376570\n",
       "0   XGboost_train  0.856609  0.911035   0.817549  0.753981  0.784479  0.344465\n",
       "0    XGboost_test  0.633444  0.785830   0.483067  0.868112  0.620727  1.270424\n",
       "0  Ensemble_train  0.867511  0.928073   0.843632  0.757645  0.798330  0.544029\n",
       "0   Ensemble_test  0.643313  0.799288   0.490877  0.868820  0.627322  2.918712"
      ]
     },
     "execution_count": 96,
     "metadata": {},
     "output_type": "execute_result"
    }
   ],
   "source": [
    "metrics"
   ]
  },
  {
   "cell_type": "code",
   "execution_count": 97,
   "id": "816f2275",
   "metadata": {},
   "outputs": [],
   "source": [
    "win_predictor_metrics['ensemble_metrics'] = get_metrics_in_dict(\n",
    "    y_test, y_pred, y_score)"
   ]
  },
  {
   "cell_type": "code",
   "execution_count": 99,
   "id": "22752984",
   "metadata": {
    "scrolled": true
   },
   "outputs": [],
   "source": [
    "save_file(train['metrics'], win_predictor_metrics)"
   ]
  },
  {
   "cell_type": "code",
   "execution_count": 48,
   "id": "153b1664",
   "metadata": {},
   "outputs": [],
   "source": [
    "models['Naive_bayes'] = model"
   ]
  },
  {
   "cell_type": "code",
   "execution_count": 49,
   "id": "57cfd0d1",
   "metadata": {
    "scrolled": true
   },
   "outputs": [
    {
     "data": {
      "text/plain": [
       "['/home/sergey/projects/zakupki/models/models/ensemble_models.joblib']"
      ]
     },
     "execution_count": 49,
     "metadata": {},
     "output_type": "execute_result"
    }
   ],
   "source": [
    "joblib.dump(models, train['models'])"
   ]
  }
 ],
 "metadata": {
  "kernelspec": {
   "display_name": "Python 3 (ipykernel)",
   "language": "python",
   "name": "python3"
  },
  "language_info": {
   "codemirror_mode": {
    "name": "ipython",
    "version": 3
   },
   "file_extension": ".py",
   "mimetype": "text/x-python",
   "name": "python",
   "nbconvert_exporter": "python",
   "pygments_lexer": "ipython3",
   "version": "3.10.7"
  }
 },
 "nbformat": 4,
 "nbformat_minor": 5
}
